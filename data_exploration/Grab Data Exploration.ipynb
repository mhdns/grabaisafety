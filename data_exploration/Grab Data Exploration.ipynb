{
 "cells": [
  {
   "cell_type": "code",
   "execution_count": 2,
   "metadata": {},
   "outputs": [
    {
     "name": "stderr",
     "output_type": "stream",
     "text": [
      "/Users/Anas/anaconda3/lib/python3.6/site-packages/h5py/__init__.py:34: FutureWarning: Conversion of the second argument of issubdtype from `float` to `np.floating` is deprecated. In future, it will be treated as `np.float64 == np.dtype(float).type`.\n",
      "  from ._conv import register_converters as _register_converters\n"
     ]
    },
    {
     "data": {
      "text/plain": [
       "'1.13.1'"
      ]
     },
     "execution_count": 2,
     "metadata": {},
     "output_type": "execute_result"
    }
   ],
   "source": [
    "# import sys\n",
    "# !conda install --yes --prefix {sys.prefix} numpy\n",
    "# !conda install --yes --prefix {sys.prefix} tensorflow\n",
    "import pandas as pd\n",
    "import numpy as np\n",
    "import seaborn as sns\n",
    "import matplotlib.pyplot as plt\n",
    "import os\n",
    "import tensorflow as tf\n",
    "%matplotlib inline\n",
    "tf.__version__\n"
   ]
  },
  {
   "cell_type": "code",
   "execution_count": 3,
   "metadata": {},
   "outputs": [
    {
     "data": {
      "text/plain": [
       "'/Users/Anas/Documents/Grab'"
      ]
     },
     "execution_count": 3,
     "metadata": {},
     "output_type": "execute_result"
    }
   ],
   "source": [
    "curr_dir = os.getcwd()\n",
    "curr_dir"
   ]
  },
  {
   "cell_type": "code",
   "execution_count": 4,
   "metadata": {
    "collapsed": true
   },
   "outputs": [],
   "source": [
    "train_data = pd.read_hdf('train_data.h5', 'grabai')\n",
    "train_data.Speed = train_data.Speed.replace(-1,np.NaN)\n",
    "test_data = pd.read_hdf('val_data.h5', 'grabai')\n",
    "test_data.Speed = test_data.Speed.replace(-1,np.NaN)\n",
    "\n",
    "# Simple fillna would do as only 1.5% of data is missing\n",
    "train_data.Speed.fillna(train_data.Speed.median(), inplace=True)\n",
    "test_data.Speed.fillna(test_data.Speed.median(), inplace=True)"
   ]
  },
  {
   "cell_type": "code",
   "execution_count": 5,
   "metadata": {},
   "outputs": [
    {
     "data": {
      "text/html": [
       "<div>\n",
       "<style>\n",
       "    .dataframe thead tr:only-child th {\n",
       "        text-align: right;\n",
       "    }\n",
       "\n",
       "    .dataframe thead th {\n",
       "        text-align: left;\n",
       "    }\n",
       "\n",
       "    .dataframe tbody tr th {\n",
       "        vertical-align: top;\n",
       "    }\n",
       "</style>\n",
       "<table border=\"1\" class=\"dataframe\">\n",
       "  <thead>\n",
       "    <tr style=\"text-align: right;\">\n",
       "      <th></th>\n",
       "      <th>bookingID</th>\n",
       "      <th>Accuracy</th>\n",
       "      <th>Bearing</th>\n",
       "      <th>acceleration_x</th>\n",
       "      <th>acceleration_y</th>\n",
       "      <th>acceleration_z</th>\n",
       "      <th>gyro_x</th>\n",
       "      <th>gyro_y</th>\n",
       "      <th>gyro_z</th>\n",
       "      <th>second</th>\n",
       "      <th>Speed</th>\n",
       "      <th>label</th>\n",
       "    </tr>\n",
       "  </thead>\n",
       "  <tbody>\n",
       "    <tr>\n",
       "      <th>0</th>\n",
       "      <td>1099511627891</td>\n",
       "      <td>3.000</td>\n",
       "      <td>311.0</td>\n",
       "      <td>0.452518</td>\n",
       "      <td>9.273026</td>\n",
       "      <td>3.098191</td>\n",
       "      <td>0.005382</td>\n",
       "      <td>0.002155</td>\n",
       "      <td>-0.001436</td>\n",
       "      <td>66.0</td>\n",
       "      <td>0.340365</td>\n",
       "      <td>0</td>\n",
       "    </tr>\n",
       "    <tr>\n",
       "      <th>1</th>\n",
       "      <td>1099511627891</td>\n",
       "      <td>3.695</td>\n",
       "      <td>311.0</td>\n",
       "      <td>0.047885</td>\n",
       "      <td>9.404712</td>\n",
       "      <td>2.834821</td>\n",
       "      <td>-0.299440</td>\n",
       "      <td>-0.062597</td>\n",
       "      <td>-0.006934</td>\n",
       "      <td>41.0</td>\n",
       "      <td>0.000000</td>\n",
       "      <td>0</td>\n",
       "    </tr>\n",
       "    <tr>\n",
       "      <th>2</th>\n",
       "      <td>1099511627891</td>\n",
       "      <td>3.000</td>\n",
       "      <td>271.0</td>\n",
       "      <td>0.438152</td>\n",
       "      <td>9.263450</td>\n",
       "      <td>3.004815</td>\n",
       "      <td>-0.079529</td>\n",
       "      <td>0.048581</td>\n",
       "      <td>-0.009377</td>\n",
       "      <td>558.0</td>\n",
       "      <td>0.000000</td>\n",
       "      <td>0</td>\n",
       "    </tr>\n",
       "    <tr>\n",
       "      <th>3</th>\n",
       "      <td>1099511627891</td>\n",
       "      <td>3.777</td>\n",
       "      <td>313.0</td>\n",
       "      <td>0.469278</td>\n",
       "      <td>9.196409</td>\n",
       "      <td>3.023969</td>\n",
       "      <td>-0.011112</td>\n",
       "      <td>0.014372</td>\n",
       "      <td>-0.009377</td>\n",
       "      <td>824.0</td>\n",
       "      <td>0.000000</td>\n",
       "      <td>0</td>\n",
       "    </tr>\n",
       "    <tr>\n",
       "      <th>4</th>\n",
       "      <td>1099511627891</td>\n",
       "      <td>3.692</td>\n",
       "      <td>311.0</td>\n",
       "      <td>0.411815</td>\n",
       "      <td>9.263450</td>\n",
       "      <td>3.071855</td>\n",
       "      <td>-0.044098</td>\n",
       "      <td>0.027811</td>\n",
       "      <td>-0.006323</td>\n",
       "      <td>45.0</td>\n",
       "      <td>0.000000</td>\n",
       "      <td>0</td>\n",
       "    </tr>\n",
       "  </tbody>\n",
       "</table>\n",
       "</div>"
      ],
      "text/plain": [
       "       bookingID  Accuracy  Bearing  acceleration_x  acceleration_y  \\\n",
       "0  1099511627891     3.000    311.0        0.452518        9.273026   \n",
       "1  1099511627891     3.695    311.0        0.047885        9.404712   \n",
       "2  1099511627891     3.000    271.0        0.438152        9.263450   \n",
       "3  1099511627891     3.777    313.0        0.469278        9.196409   \n",
       "4  1099511627891     3.692    311.0        0.411815        9.263450   \n",
       "\n",
       "   acceleration_z    gyro_x    gyro_y    gyro_z  second     Speed  label  \n",
       "0        3.098191  0.005382  0.002155 -0.001436    66.0  0.340365      0  \n",
       "1        2.834821 -0.299440 -0.062597 -0.006934    41.0  0.000000      0  \n",
       "2        3.004815 -0.079529  0.048581 -0.009377   558.0  0.000000      0  \n",
       "3        3.023969 -0.011112  0.014372 -0.009377   824.0  0.000000      0  \n",
       "4        3.071855 -0.044098  0.027811 -0.006323    45.0  0.000000      0  "
      ]
     },
     "execution_count": 5,
     "metadata": {},
     "output_type": "execute_result"
    }
   ],
   "source": [
    "train_data.head()"
   ]
  },
  {
   "cell_type": "code",
   "execution_count": 6,
   "metadata": {},
   "outputs": [
    {
     "data": {
      "text/plain": [
       "bookingID            1004\n",
       "Accuracy                0\n",
       "Bearing            689308\n",
       "acceleration_x      11125\n",
       "acceleration_y        335\n",
       "acceleration_z       3257\n",
       "gyro_x              32354\n",
       "gyro_y              29815\n",
       "gyro_z              36375\n",
       "second              14041\n",
       "Speed             1957809\n",
       "label             7806095\n",
       "dtype: int64"
      ]
     },
     "execution_count": 6,
     "metadata": {},
     "output_type": "execute_result"
    }
   ],
   "source": [
    "(train_data == 0).sum()\n",
    "# The zeros will be pose a problem when calculating "
   ]
  },
  {
   "attachments": {
    "image.png": {
     "image/png": "[encoded data removed]"
    }
   },
   "cell_type": "markdown",
   "metadata": {},
   "source": [
    "### Notes\n",
    "<div style=\"width: 400px; float: right;\">![image.png](attachment:image.png)</div>\n",
    "#### Acceleration\n",
    "* Acceleration X shows acceleration on the left or right (if value more than 0, it is a left turn)\n",
    "* Accelleration Y is shows acceleration on the up down axis (due to gravity, default will be -9.81, therefore if value more than -9.81, then the vehicle/phone is down)\n",
    "* Axeleration Z is the forward and backward acceleration (if less than 0, it is foreward acceleration. This will be the case most of the time)\n",
    "\n",
    "#### Gyro\n",
    "* Gyro X rotation along the X axis (pitch). Positive value refers to a left tilt on the X axis.\n",
    "* Gyro Y rotation along the Y axis (roll). Positive value refers to a left tilt on the Y axis.\n",
    "* Gyro Z rotation along the Z axis (yaw). Positive value refers to a left tilt on the Z axis.\n",
    "\n",
    "#### Interpretation\n",
    "* A left/right turn will have change in acceleration along the X axis, while changing the Roll(gyro Y axis). The larger the gyro Y value the sharper the turn.\n",
    "* A up/down movement will have change in acceleration along the Y axis, while changing the Pitch(gyro X axis). The larger the gyro X value the steeper the slope.\n",
    "* When there is a combination of left/right and up/down or the road is tilted, the Yaw(gyro Z axis) will change. The value represents shows if it is a right(positive) or left(negative) tilt."
   ]
  },
  {
   "cell_type": "code",
   "execution_count": 7,
   "metadata": {
    "collapsed": true
   },
   "outputs": [],
   "source": [
    "def add_features(df):\n",
    "    # this function adds the direction, smoothness and intensity for each data point\n",
    "    # Direction\n",
    "    df['up'] = df.acceleration_y.apply(lambda y: 1 if np.round(y,2)+9.81 < 0 else 0)\n",
    "    df['down'] = df.acceleration_y.apply(lambda y: 1 if np.round(y,2)+9.81 > 0 else 0)\n",
    "    \n",
    "    df['right'] = df.acceleration_x.apply(lambda x: 1 if np.round(x,2) < 0 else 0)\n",
    "    df['left'] = df.acceleration_x.apply(lambda x: 1 if np.round(x,2) > 0 else 0)\n",
    "    \n",
    "    # Though the else value for smoothness and intensity is not technically correct, \n",
    "    # it should help to create some noise that will improve generalization\n",
    "    # Smoothness\n",
    "    df['rl_smooth'] = np.where((df.Speed!=0) & (df.gyro_y!=0),\n",
    "                               df.Speed/np.abs(df.gyro_y),\n",
    "                               df.Speed + np.abs(df.gyro_y)) # right left smoothness\n",
    "    \n",
    "    df['ud_smooth'] = np.where((df.Speed!=0) & (df.gyro_x!=0),\n",
    "                               df.Speed/np.abs(df.gyro_x),\n",
    "                               df.Speed + np.abs(df.gyro_x)) # up down smoothness\n",
    "    \n",
    "    df['smoothness'] = np.sqrt(np.square(df.rl_smooth) + np.square(df.ud_smooth))\n",
    "    \n",
    "    # Intensity\n",
    "    df['rl_intensity'] = np.where(df.acceleration_x != 0, \n",
    "                                  df.rl_smooth * np.abs(df.acceleration_x), \n",
    "                                  df.rl_smooth)\n",
    "    df['ud_intensity'] = np.where(df.acceleration_x != 0, \n",
    "                                  df.ud_smooth * np.abs(df.acceleration_y), \n",
    "                                  df.ud_smooth)\n",
    "    df['intensity'] = np.sqrt(np.square(df.rl_intensity) + np.square(df.ud_intensity))\n",
    "    \n",
    "    df_col = list(df)\n",
    "    df_col.remove('label')\n",
    "    df_col.append('label')\n",
    "    \n",
    "    return df[df_col]"
   ]
  },
  {
   "cell_type": "code",
   "execution_count": 8,
   "metadata": {},
   "outputs": [
    {
     "data": {
      "text/html": [
       "<div>\n",
       "<style>\n",
       "    .dataframe thead tr:only-child th {\n",
       "        text-align: right;\n",
       "    }\n",
       "\n",
       "    .dataframe thead th {\n",
       "        text-align: left;\n",
       "    }\n",
       "\n",
       "    .dataframe tbody tr th {\n",
       "        vertical-align: top;\n",
       "    }\n",
       "</style>\n",
       "<table border=\"1\" class=\"dataframe\">\n",
       "  <thead>\n",
       "    <tr style=\"text-align: right;\">\n",
       "      <th></th>\n",
       "      <th>bookingID</th>\n",
       "      <th>Accuracy</th>\n",
       "      <th>Bearing</th>\n",
       "      <th>acceleration_x</th>\n",
       "      <th>acceleration_y</th>\n",
       "      <th>acceleration_z</th>\n",
       "      <th>gyro_x</th>\n",
       "      <th>gyro_y</th>\n",
       "      <th>gyro_z</th>\n",
       "      <th>second</th>\n",
       "      <th>...</th>\n",
       "      <th>down</th>\n",
       "      <th>right</th>\n",
       "      <th>left</th>\n",
       "      <th>rl_smooth</th>\n",
       "      <th>ud_smooth</th>\n",
       "      <th>smoothness</th>\n",
       "      <th>rl_intensity</th>\n",
       "      <th>ud_intensity</th>\n",
       "      <th>intensity</th>\n",
       "      <th>label</th>\n",
       "    </tr>\n",
       "  </thead>\n",
       "  <tbody>\n",
       "    <tr>\n",
       "      <th>0</th>\n",
       "      <td>1099511627891</td>\n",
       "      <td>3.000</td>\n",
       "      <td>311.0</td>\n",
       "      <td>0.452518</td>\n",
       "      <td>9.273026</td>\n",
       "      <td>3.098191</td>\n",
       "      <td>0.005382</td>\n",
       "      <td>0.002155</td>\n",
       "      <td>-0.001436</td>\n",
       "      <td>66.0</td>\n",
       "      <td>...</td>\n",
       "      <td>1</td>\n",
       "      <td>0</td>\n",
       "      <td>1</td>\n",
       "      <td>157.932496</td>\n",
       "      <td>63.244702</td>\n",
       "      <td>170.125147</td>\n",
       "      <td>71.467286</td>\n",
       "      <td>586.469771</td>\n",
       "      <td>590.808230</td>\n",
       "      <td>0</td>\n",
       "    </tr>\n",
       "    <tr>\n",
       "      <th>1</th>\n",
       "      <td>1099511627891</td>\n",
       "      <td>3.695</td>\n",
       "      <td>311.0</td>\n",
       "      <td>0.047885</td>\n",
       "      <td>9.404712</td>\n",
       "      <td>2.834821</td>\n",
       "      <td>-0.299440</td>\n",
       "      <td>-0.062597</td>\n",
       "      <td>-0.006934</td>\n",
       "      <td>41.0</td>\n",
       "      <td>...</td>\n",
       "      <td>1</td>\n",
       "      <td>0</td>\n",
       "      <td>1</td>\n",
       "      <td>0.062597</td>\n",
       "      <td>0.299440</td>\n",
       "      <td>0.305913</td>\n",
       "      <td>0.002997</td>\n",
       "      <td>2.816147</td>\n",
       "      <td>2.816149</td>\n",
       "      <td>0</td>\n",
       "    </tr>\n",
       "    <tr>\n",
       "      <th>2</th>\n",
       "      <td>1099511627891</td>\n",
       "      <td>3.000</td>\n",
       "      <td>271.0</td>\n",
       "      <td>0.438152</td>\n",
       "      <td>9.263450</td>\n",
       "      <td>3.004815</td>\n",
       "      <td>-0.079529</td>\n",
       "      <td>0.048581</td>\n",
       "      <td>-0.009377</td>\n",
       "      <td>558.0</td>\n",
       "      <td>...</td>\n",
       "      <td>1</td>\n",
       "      <td>0</td>\n",
       "      <td>1</td>\n",
       "      <td>0.048581</td>\n",
       "      <td>0.079529</td>\n",
       "      <td>0.093193</td>\n",
       "      <td>0.021286</td>\n",
       "      <td>0.736709</td>\n",
       "      <td>0.737016</td>\n",
       "      <td>0</td>\n",
       "    </tr>\n",
       "    <tr>\n",
       "      <th>3</th>\n",
       "      <td>1099511627891</td>\n",
       "      <td>3.777</td>\n",
       "      <td>313.0</td>\n",
       "      <td>0.469278</td>\n",
       "      <td>9.196409</td>\n",
       "      <td>3.023969</td>\n",
       "      <td>-0.011112</td>\n",
       "      <td>0.014372</td>\n",
       "      <td>-0.009377</td>\n",
       "      <td>824.0</td>\n",
       "      <td>...</td>\n",
       "      <td>1</td>\n",
       "      <td>0</td>\n",
       "      <td>1</td>\n",
       "      <td>0.014372</td>\n",
       "      <td>0.011112</td>\n",
       "      <td>0.018167</td>\n",
       "      <td>0.006745</td>\n",
       "      <td>0.102187</td>\n",
       "      <td>0.102410</td>\n",
       "      <td>0</td>\n",
       "    </tr>\n",
       "    <tr>\n",
       "      <th>4</th>\n",
       "      <td>1099511627891</td>\n",
       "      <td>3.692</td>\n",
       "      <td>311.0</td>\n",
       "      <td>0.411815</td>\n",
       "      <td>9.263450</td>\n",
       "      <td>3.071855</td>\n",
       "      <td>-0.044098</td>\n",
       "      <td>0.027811</td>\n",
       "      <td>-0.006323</td>\n",
       "      <td>45.0</td>\n",
       "      <td>...</td>\n",
       "      <td>1</td>\n",
       "      <td>0</td>\n",
       "      <td>1</td>\n",
       "      <td>0.027811</td>\n",
       "      <td>0.044098</td>\n",
       "      <td>0.052136</td>\n",
       "      <td>0.011453</td>\n",
       "      <td>0.408503</td>\n",
       "      <td>0.408663</td>\n",
       "      <td>0</td>\n",
       "    </tr>\n",
       "  </tbody>\n",
       "</table>\n",
       "<p>5 rows × 22 columns</p>\n",
       "</div>"
      ],
      "text/plain": [
       "       bookingID  Accuracy  Bearing  acceleration_x  acceleration_y  \\\n",
       "0  1099511627891     3.000    311.0        0.452518        9.273026   \n",
       "1  1099511627891     3.695    311.0        0.047885        9.404712   \n",
       "2  1099511627891     3.000    271.0        0.438152        9.263450   \n",
       "3  1099511627891     3.777    313.0        0.469278        9.196409   \n",
       "4  1099511627891     3.692    311.0        0.411815        9.263450   \n",
       "\n",
       "   acceleration_z    gyro_x    gyro_y    gyro_z  second  ...    down  right  \\\n",
       "0        3.098191  0.005382  0.002155 -0.001436    66.0  ...       1      0   \n",
       "1        2.834821 -0.299440 -0.062597 -0.006934    41.0  ...       1      0   \n",
       "2        3.004815 -0.079529  0.048581 -0.009377   558.0  ...       1      0   \n",
       "3        3.023969 -0.011112  0.014372 -0.009377   824.0  ...       1      0   \n",
       "4        3.071855 -0.044098  0.027811 -0.006323    45.0  ...       1      0   \n",
       "\n",
       "   left   rl_smooth  ud_smooth  smoothness  rl_intensity  ud_intensity  \\\n",
       "0     1  157.932496  63.244702  170.125147     71.467286    586.469771   \n",
       "1     1    0.062597   0.299440    0.305913      0.002997      2.816147   \n",
       "2     1    0.048581   0.079529    0.093193      0.021286      0.736709   \n",
       "3     1    0.014372   0.011112    0.018167      0.006745      0.102187   \n",
       "4     1    0.027811   0.044098    0.052136      0.011453      0.408503   \n",
       "\n",
       "    intensity  label  \n",
       "0  590.808230      0  \n",
       "1    2.816149      0  \n",
       "2    0.737016      0  \n",
       "3    0.102410      0  \n",
       "4    0.408663      0  \n",
       "\n",
       "[5 rows x 22 columns]"
      ]
     },
     "execution_count": 8,
     "metadata": {},
     "output_type": "execute_result"
    }
   ],
   "source": [
    "if os.path.isfile('train_data_features.h5'):\n",
    "    train_data = pd.read_hdf('train_data_features.h5', 'grabai')\n",
    "    test_data = pd.read_hdf('val_data_features.h5', 'grabai')\n",
    "else:\n",
    "    train_data = add_features(train_data)\n",
    "    test_data = add_features(test_data)\n",
    "    \n",
    "    train_data.to_hdf('train_data_features.h5', 'grabai')\n",
    "    test_data.to_hdf('val_data_features.h5', 'grabai')\n",
    "\n",
    "train_data.head()"
   ]
  },
  {
   "cell_type": "code",
   "execution_count": 9,
   "metadata": {},
   "outputs": [
    {
     "data": {
      "text/html": [
       "<div>\n",
       "<style>\n",
       "    .dataframe thead tr:only-child th {\n",
       "        text-align: right;\n",
       "    }\n",
       "\n",
       "    .dataframe thead th {\n",
       "        text-align: left;\n",
       "    }\n",
       "\n",
       "    .dataframe tbody tr th {\n",
       "        vertical-align: top;\n",
       "    }\n",
       "</style>\n",
       "<table border=\"1\" class=\"dataframe\">\n",
       "  <thead>\n",
       "    <tr style=\"text-align: right;\">\n",
       "      <th></th>\n",
       "      <th>bookingID</th>\n",
       "      <th>Accuracy</th>\n",
       "      <th>Bearing</th>\n",
       "      <th>acceleration_x</th>\n",
       "      <th>acceleration_y</th>\n",
       "      <th>acceleration_z</th>\n",
       "      <th>gyro_x</th>\n",
       "      <th>gyro_y</th>\n",
       "      <th>gyro_z</th>\n",
       "      <th>second</th>\n",
       "      <th>...</th>\n",
       "      <th>down</th>\n",
       "      <th>right</th>\n",
       "      <th>left</th>\n",
       "      <th>rl_smooth</th>\n",
       "      <th>ud_smooth</th>\n",
       "      <th>smoothness</th>\n",
       "      <th>rl_intensity</th>\n",
       "      <th>ud_intensity</th>\n",
       "      <th>intensity</th>\n",
       "      <th>label</th>\n",
       "    </tr>\n",
       "  </thead>\n",
       "  <tbody>\n",
       "    <tr>\n",
       "      <th>0</th>\n",
       "      <td>1099511627891</td>\n",
       "      <td>0.003240</td>\n",
       "      <td>0.335912</td>\n",
       "      <td>0.000489</td>\n",
       "      <td>0.010016</td>\n",
       "      <td>0.003346</td>\n",
       "      <td>0.000006</td>\n",
       "      <td>0.000002</td>\n",
       "      <td>-0.000002</td>\n",
       "      <td>0.071287</td>\n",
       "      <td>...</td>\n",
       "      <td>0.001080</td>\n",
       "      <td>0.0</td>\n",
       "      <td>0.001080</td>\n",
       "      <td>0.170583</td>\n",
       "      <td>0.068311</td>\n",
       "      <td>0.183752</td>\n",
       "      <td>0.077192</td>\n",
       "      <td>0.633447</td>\n",
       "      <td>0.638133</td>\n",
       "      <td>0</td>\n",
       "    </tr>\n",
       "    <tr>\n",
       "      <th>1</th>\n",
       "      <td>1099511627891</td>\n",
       "      <td>0.011771</td>\n",
       "      <td>0.990776</td>\n",
       "      <td>0.000153</td>\n",
       "      <td>0.029961</td>\n",
       "      <td>0.009031</td>\n",
       "      <td>-0.000954</td>\n",
       "      <td>-0.000199</td>\n",
       "      <td>-0.000022</td>\n",
       "      <td>0.130617</td>\n",
       "      <td>...</td>\n",
       "      <td>0.003186</td>\n",
       "      <td>0.0</td>\n",
       "      <td>0.003186</td>\n",
       "      <td>0.000199</td>\n",
       "      <td>0.000954</td>\n",
       "      <td>0.000975</td>\n",
       "      <td>0.000010</td>\n",
       "      <td>0.008972</td>\n",
       "      <td>0.008972</td>\n",
       "      <td>0</td>\n",
       "    </tr>\n",
       "    <tr>\n",
       "      <th>2</th>\n",
       "      <td>1099511627891</td>\n",
       "      <td>0.004835</td>\n",
       "      <td>0.436806</td>\n",
       "      <td>0.000706</td>\n",
       "      <td>0.014931</td>\n",
       "      <td>0.004843</td>\n",
       "      <td>-0.000128</td>\n",
       "      <td>0.000078</td>\n",
       "      <td>-0.000015</td>\n",
       "      <td>0.899401</td>\n",
       "      <td>...</td>\n",
       "      <td>0.001612</td>\n",
       "      <td>0.0</td>\n",
       "      <td>0.001612</td>\n",
       "      <td>0.000078</td>\n",
       "      <td>0.000128</td>\n",
       "      <td>0.000150</td>\n",
       "      <td>0.000034</td>\n",
       "      <td>0.001187</td>\n",
       "      <td>0.001188</td>\n",
       "      <td>0</td>\n",
       "    </tr>\n",
       "    <tr>\n",
       "      <th>3</th>\n",
       "      <td>1099511627891</td>\n",
       "      <td>0.004285</td>\n",
       "      <td>0.355074</td>\n",
       "      <td>0.000532</td>\n",
       "      <td>0.010433</td>\n",
       "      <td>0.003430</td>\n",
       "      <td>-0.000013</td>\n",
       "      <td>0.000016</td>\n",
       "      <td>-0.000011</td>\n",
       "      <td>0.934762</td>\n",
       "      <td>...</td>\n",
       "      <td>0.001134</td>\n",
       "      <td>0.0</td>\n",
       "      <td>0.001134</td>\n",
       "      <td>0.000016</td>\n",
       "      <td>0.000013</td>\n",
       "      <td>0.000021</td>\n",
       "      <td>0.000008</td>\n",
       "      <td>0.000116</td>\n",
       "      <td>0.000116</td>\n",
       "      <td>0</td>\n",
       "    </tr>\n",
       "    <tr>\n",
       "      <th>4</th>\n",
       "      <td>1099511627891</td>\n",
       "      <td>0.011742</td>\n",
       "      <td>0.989136</td>\n",
       "      <td>0.001310</td>\n",
       "      <td>0.029462</td>\n",
       "      <td>0.009770</td>\n",
       "      <td>-0.000140</td>\n",
       "      <td>0.000088</td>\n",
       "      <td>-0.000020</td>\n",
       "      <td>0.143123</td>\n",
       "      <td>...</td>\n",
       "      <td>0.003181</td>\n",
       "      <td>0.0</td>\n",
       "      <td>0.003181</td>\n",
       "      <td>0.000088</td>\n",
       "      <td>0.000140</td>\n",
       "      <td>0.000166</td>\n",
       "      <td>0.000036</td>\n",
       "      <td>0.001299</td>\n",
       "      <td>0.001300</td>\n",
       "      <td>0</td>\n",
       "    </tr>\n",
       "  </tbody>\n",
       "</table>\n",
       "<p>5 rows × 22 columns</p>\n",
       "</div>"
      ],
      "text/plain": [
       "       bookingID  Accuracy   Bearing  acceleration_x  acceleration_y  \\\n",
       "0  1099511627891  0.003240  0.335912        0.000489        0.010016   \n",
       "1  1099511627891  0.011771  0.990776        0.000153        0.029961   \n",
       "2  1099511627891  0.004835  0.436806        0.000706        0.014931   \n",
       "3  1099511627891  0.004285  0.355074        0.000532        0.010433   \n",
       "4  1099511627891  0.011742  0.989136        0.001310        0.029462   \n",
       "\n",
       "   acceleration_z    gyro_x    gyro_y    gyro_z    second  ...        down  \\\n",
       "0        0.003346  0.000006  0.000002 -0.000002  0.071287  ...    0.001080   \n",
       "1        0.009031 -0.000954 -0.000199 -0.000022  0.130617  ...    0.003186   \n",
       "2        0.004843 -0.000128  0.000078 -0.000015  0.899401  ...    0.001612   \n",
       "3        0.003430 -0.000013  0.000016 -0.000011  0.934762  ...    0.001134   \n",
       "4        0.009770 -0.000140  0.000088 -0.000020  0.143123  ...    0.003181   \n",
       "\n",
       "   right      left  rl_smooth  ud_smooth  smoothness  rl_intensity  \\\n",
       "0    0.0  0.001080   0.170583   0.068311    0.183752      0.077192   \n",
       "1    0.0  0.003186   0.000199   0.000954    0.000975      0.000010   \n",
       "2    0.0  0.001612   0.000078   0.000128    0.000150      0.000034   \n",
       "3    0.0  0.001134   0.000016   0.000013    0.000021      0.000008   \n",
       "4    0.0  0.003181   0.000088   0.000140    0.000166      0.000036   \n",
       "\n",
       "   ud_intensity  intensity  label  \n",
       "0      0.633447   0.638133      0  \n",
       "1      0.008972   0.008972      0  \n",
       "2      0.001187   0.001188      0  \n",
       "3      0.000116   0.000116      0  \n",
       "4      0.001299   0.001300      0  \n",
       "\n",
       "[5 rows x 22 columns]"
      ]
     },
     "execution_count": 9,
     "metadata": {},
     "output_type": "execute_result"
    }
   ],
   "source": [
    "from sklearn.preprocessing import Normalizer\n",
    "if os.path.isfile('train_data_features.h5'):\n",
    "    train_data = pd.read_hdf('train_data_norm.h5', 'grabai')\n",
    "    test_data = pd.read_hdf('val_data_norm.h5', 'grabai')\n",
    "else:\n",
    "    cols = list(train_data)\n",
    "    cols.remove('label')\n",
    "    cols.remove('bookingID')\n",
    "\n",
    "    scaler = Normalizer()\n",
    "    scaler = scaler.fit(train_data[cols])\n",
    "    train_data[cols] = scaler.transform(train_data[cols])\n",
    "    test_data[cols] = scaler.transform(test_data[cols])\n",
    "    \n",
    "    train_data.to_hdf('train_data_norm.h5', 'grabai')\n",
    "    test_data.to_hdf('val_data_norm.h5', 'grabai')\n",
    "\n",
    "train_data.head()"
   ]
  },
  {
   "cell_type": "code",
   "execution_count": 10,
   "metadata": {},
   "outputs": [
    {
     "data": {
      "text/plain": [
       "<matplotlib.axes._subplots.AxesSubplot at 0x11215c828>"
      ]
     },
     "execution_count": 10,
     "metadata": {},
     "output_type": "execute_result"
    },
    {
     "data": {
      "image/png": "[encoded data removed]",
      "text/plain": [
       "<matplotlib.figure.Figure at 0x10268e0b8>"
      ]
     },
     "metadata": {
      "needs_background": "light"
     },
     "output_type": "display_data"
    }
   ],
   "source": [
    "cols = list(train_data)\n",
    "cols.remove('bookingID')\n",
    "cols.remove('label')\n",
    "plt.figure(figsize=(20,10))\n",
    "corr = train_data[cols].corr()\n",
    "# Generate a mask for the upper triangle\n",
    "mask = np.zeros_like(corr, dtype=np.bool)\n",
    "mask[np.triu_indices_from(mask)] = True\n",
    "\n",
    "# Generate a custom diverging colormap\n",
    "cmap = sns.diverging_palette(220, 10, as_cmap=True)\n",
    "\n",
    "# Draw the heatmap with the mask and correct aspect ratio\n",
    "sns.heatmap(corr, mask=mask, cmap=cmap,\n",
    "            square=True, linewidths=.5, cbar_kws={\"shrink\": .5})"
   ]
  },
  {
   "cell_type": "code",
   "execution_count": 11,
   "metadata": {
    "collapsed": true
   },
   "outputs": [],
   "source": [
    "t = train_data.head(2000).groupby('bookingID')"
   ]
  },
  {
   "cell_type": "code",
   "execution_count": 12,
   "metadata": {},
   "outputs": [
    {
     "data": {
      "text/html": [
       "<div>\n",
       "<style>\n",
       "    .dataframe thead tr:only-child th {\n",
       "        text-align: right;\n",
       "    }\n",
       "\n",
       "    .dataframe thead th {\n",
       "        text-align: left;\n",
       "    }\n",
       "\n",
       "    .dataframe tbody tr th {\n",
       "        vertical-align: top;\n",
       "    }\n",
       "</style>\n",
       "<table border=\"1\" class=\"dataframe\">\n",
       "  <thead>\n",
       "    <tr style=\"text-align: right;\">\n",
       "      <th></th>\n",
       "      <th>Accuracy_mean</th>\n",
       "      <th>Bearing_mean</th>\n",
       "      <th>acceleration_x_mean</th>\n",
       "      <th>acceleration_y_mean</th>\n",
       "      <th>acceleration_z_mean</th>\n",
       "      <th>gyro_x_mean</th>\n",
       "      <th>gyro_y_mean</th>\n",
       "      <th>gyro_z_mean</th>\n",
       "      <th>second_mean</th>\n",
       "      <th>Speed_mean</th>\n",
       "      <th>...</th>\n",
       "      <th>down_mean</th>\n",
       "      <th>right_mean</th>\n",
       "      <th>left_mean</th>\n",
       "      <th>rl_smooth_mean</th>\n",
       "      <th>ud_smooth_mean</th>\n",
       "      <th>smoothness_mean</th>\n",
       "      <th>rl_intensity_mean</th>\n",
       "      <th>ud_intensity_mean</th>\n",
       "      <th>intensity_mean</th>\n",
       "      <th>label_mean</th>\n",
       "    </tr>\n",
       "    <tr>\n",
       "      <th>bookingID</th>\n",
       "      <th></th>\n",
       "      <th></th>\n",
       "      <th></th>\n",
       "      <th></th>\n",
       "      <th></th>\n",
       "      <th></th>\n",
       "      <th></th>\n",
       "      <th></th>\n",
       "      <th></th>\n",
       "      <th></th>\n",
       "      <th></th>\n",
       "      <th></th>\n",
       "      <th></th>\n",
       "      <th></th>\n",
       "      <th></th>\n",
       "      <th></th>\n",
       "      <th></th>\n",
       "      <th></th>\n",
       "      <th></th>\n",
       "      <th></th>\n",
       "      <th></th>\n",
       "    </tr>\n",
       "  </thead>\n",
       "  <tbody>\n",
       "    <tr>\n",
       "      <th>962072674446</th>\n",
       "      <td>3.024428</td>\n",
       "      <td>53.263233</td>\n",
       "      <td>0.079637</td>\n",
       "      <td>-2.617704</td>\n",
       "      <td>-1.325225</td>\n",
       "      <td>-0.006598</td>\n",
       "      <td>-0.000334</td>\n",
       "      <td>0.000804</td>\n",
       "      <td>279.451579</td>\n",
       "      <td>2.527747</td>\n",
       "      <td>...</td>\n",
       "      <td>0.291030</td>\n",
       "      <td>0.058678</td>\n",
       "      <td>0.239923</td>\n",
       "      <td>120.424356</td>\n",
       "      <td>91.400138</td>\n",
       "      <td>171.156025</td>\n",
       "      <td>44.301833</td>\n",
       "      <td>781.508702</td>\n",
       "      <td>789.970152</td>\n",
       "      <td>0</td>\n",
       "    </tr>\n",
       "    <tr>\n",
       "      <th>1099511627891</th>\n",
       "      <td>2.614201</td>\n",
       "      <td>150.124104</td>\n",
       "      <td>0.151765</td>\n",
       "      <td>5.549768</td>\n",
       "      <td>1.698244</td>\n",
       "      <td>-0.001512</td>\n",
       "      <td>-0.003291</td>\n",
       "      <td>-0.002302</td>\n",
       "      <td>271.053324</td>\n",
       "      <td>2.787516</td>\n",
       "      <td>...</td>\n",
       "      <td>0.593083</td>\n",
       "      <td>0.123641</td>\n",
       "      <td>0.466721</td>\n",
       "      <td>57.876378</td>\n",
       "      <td>39.033900</td>\n",
       "      <td>79.574525</td>\n",
       "      <td>35.322554</td>\n",
       "      <td>356.271898</td>\n",
       "      <td>365.279875</td>\n",
       "      <td>0</td>\n",
       "    </tr>\n",
       "  </tbody>\n",
       "</table>\n",
       "<p>2 rows × 21 columns</p>\n",
       "</div>"
      ],
      "text/plain": [
       "               Accuracy_mean  Bearing_mean  acceleration_x_mean  \\\n",
       "bookingID                                                         \n",
       "962072674446        3.024428     53.263233             0.079637   \n",
       "1099511627891       2.614201    150.124104             0.151765   \n",
       "\n",
       "               acceleration_y_mean  acceleration_z_mean  gyro_x_mean  \\\n",
       "bookingID                                                              \n",
       "962072674446             -2.617704            -1.325225    -0.006598   \n",
       "1099511627891             5.549768             1.698244    -0.001512   \n",
       "\n",
       "               gyro_y_mean  gyro_z_mean  second_mean  Speed_mean     ...      \\\n",
       "bookingID                                                            ...       \n",
       "962072674446     -0.000334     0.000804   279.451579    2.527747     ...       \n",
       "1099511627891    -0.003291    -0.002302   271.053324    2.787516     ...       \n",
       "\n",
       "               down_mean  right_mean  left_mean  rl_smooth_mean  \\\n",
       "bookingID                                                         \n",
       "962072674446    0.291030    0.058678   0.239923      120.424356   \n",
       "1099511627891   0.593083    0.123641   0.466721       57.876378   \n",
       "\n",
       "               ud_smooth_mean  smoothness_mean  rl_intensity_mean  \\\n",
       "bookingID                                                           \n",
       "962072674446        91.400138       171.156025          44.301833   \n",
       "1099511627891       39.033900        79.574525          35.322554   \n",
       "\n",
       "               ud_intensity_mean  intensity_mean  label_mean  \n",
       "bookingID                                                     \n",
       "962072674446          781.508702      789.970152           0  \n",
       "1099511627891         356.271898      365.279875           0  \n",
       "\n",
       "[2 rows x 21 columns]"
      ]
     },
     "execution_count": 12,
     "metadata": {},
     "output_type": "execute_result"
    }
   ],
   "source": [
    "t = t.sum()\n",
    "t.columns = list(map(lambda x: x + '_mean', list(t)))\n",
    "t"
   ]
  },
  {
   "cell_type": "code",
   "execution_count": 13,
   "metadata": {
    "collapsed": true
   },
   "outputs": [],
   "source": [
    "def grouped_data(df):\n",
    "    extra_features = []\n",
    "    all_cols = list(df)\n",
    "    cols = all_cols\n",
    "    cols.remove('bookingID')\n",
    "    cols.remove('label')\n",
    "    \n",
    "    grouped = df.groupby('bookingID')\n",
    "    lst_functions = ['mean', 'median', 'min', 'max', 'std', 'skew', 'count', 'sum']\n",
    "    for func in lst_functions:\n",
    "        if func == 'mean':\n",
    "            temp = grouped.mean()\n",
    "            temp.columns = list(map(lambda x: x + '_mean', list(temp)))\n",
    "            extra_features.append(temp)\n",
    "            \n",
    "        if func == 'median':\n",
    "            temp = grouped.median()\n",
    "            temp = temp[cols]\n",
    "            temp.columns = list(map(lambda x: x + '_median', list(temp)))\n",
    "            extra_features.append(temp)\n",
    "        \n",
    "        if func == 'std':\n",
    "            temp = grouped.std()\n",
    "            temp = temp[cols]\n",
    "            temp.columns = list(map(lambda x: x + '_std', list(temp)))\n",
    "            extra_features.append(temp)\n",
    "        \n",
    "        if func == 'skew':\n",
    "            temp = grouped.skew()\n",
    "            temp = temp[cols]\n",
    "            temp.columns = list(map(lambda x: x + '_skew', list(temp)))\n",
    "            extra_features.append(temp)\n",
    "\n",
    "        if func == 'count':\n",
    "            temp = grouped.count()\n",
    "            temp = temp[cols]\n",
    "            temp.columns = list(map(lambda x: x + '_count', list(temp)))\n",
    "            extra_features.append(temp)\n",
    "        \n",
    "        if func == 'sum':\n",
    "            temp = grouped.sum()\n",
    "            temp = temp[cols]\n",
    "            temp.columns = list(map(lambda x: x + '_sum', list(temp)))\n",
    "            extra_features.append(temp)\n",
    "        \n",
    "        if func == 'min':\n",
    "            temp = grouped.min()\n",
    "            temp = temp[cols]\n",
    "            temp.columns = list(map(lambda x: x + '_min', list(temp)))\n",
    "            extra_features.append(temp)\n",
    "            \n",
    "        if func == 'max':\n",
    "            temp = grouped.max()\n",
    "            temp = temp[cols]\n",
    "            temp.columns = list(map(lambda x: x + '_max', list(temp)))\n",
    "            extra_features.append(temp)\n",
    "            \n",
    "    merged_data = pd.concat(extra_features, axis=1)\n",
    "        \n",
    "    df_col = list(merged_data)\n",
    "    df_col.remove('label_mean')\n",
    "    df_col.append('label_mean')\n",
    "    \n",
    "    return merged_data[df_col]"
   ]
  },
  {
   "cell_type": "code",
   "execution_count": 14,
   "metadata": {},
   "outputs": [
    {
     "data": {
      "text/html": [
       "<div>\n",
       "<style>\n",
       "    .dataframe thead tr:only-child th {\n",
       "        text-align: right;\n",
       "    }\n",
       "\n",
       "    .dataframe thead th {\n",
       "        text-align: left;\n",
       "    }\n",
       "\n",
       "    .dataframe tbody tr th {\n",
       "        vertical-align: top;\n",
       "    }\n",
       "</style>\n",
       "<table border=\"1\" class=\"dataframe\">\n",
       "  <thead>\n",
       "    <tr style=\"text-align: right;\">\n",
       "      <th></th>\n",
       "      <th>Accuracy_mean</th>\n",
       "      <th>Bearing_mean</th>\n",
       "      <th>acceleration_x_mean</th>\n",
       "      <th>acceleration_y_mean</th>\n",
       "      <th>acceleration_z_mean</th>\n",
       "      <th>gyro_x_mean</th>\n",
       "      <th>gyro_y_mean</th>\n",
       "      <th>gyro_z_mean</th>\n",
       "      <th>second_mean</th>\n",
       "      <th>Speed_mean</th>\n",
       "      <th>...</th>\n",
       "      <th>down_sum</th>\n",
       "      <th>right_sum</th>\n",
       "      <th>left_sum</th>\n",
       "      <th>rl_smooth_sum</th>\n",
       "      <th>ud_smooth_sum</th>\n",
       "      <th>smoothness_sum</th>\n",
       "      <th>rl_intensity_sum</th>\n",
       "      <th>ud_intensity_sum</th>\n",
       "      <th>intensity_sum</th>\n",
       "      <th>label_mean</th>\n",
       "    </tr>\n",
       "    <tr>\n",
       "      <th>bookingID</th>\n",
       "      <th></th>\n",
       "      <th></th>\n",
       "      <th></th>\n",
       "      <th></th>\n",
       "      <th></th>\n",
       "      <th></th>\n",
       "      <th></th>\n",
       "      <th></th>\n",
       "      <th></th>\n",
       "      <th></th>\n",
       "      <th></th>\n",
       "      <th></th>\n",
       "      <th></th>\n",
       "      <th></th>\n",
       "      <th></th>\n",
       "      <th></th>\n",
       "      <th></th>\n",
       "      <th></th>\n",
       "      <th></th>\n",
       "      <th></th>\n",
       "      <th></th>\n",
       "    </tr>\n",
       "  </thead>\n",
       "  <tbody>\n",
       "    <tr>\n",
       "      <th>0</th>\n",
       "      <td>0.009815</td>\n",
       "      <td>0.136455</td>\n",
       "      <td>-0.000588</td>\n",
       "      <td>-0.007766</td>\n",
       "      <td>-0.001224</td>\n",
       "      <td>4.543458e-06</td>\n",
       "      <td>-0.000005</td>\n",
       "      <td>-3.343785e-06</td>\n",
       "      <td>0.326845</td>\n",
       "      <td>0.002437</td>\n",
       "      <td>...</td>\n",
       "      <td>0.588823</td>\n",
       "      <td>0.708767</td>\n",
       "      <td>0.101698</td>\n",
       "      <td>83.721398</td>\n",
       "      <td>58.861670</td>\n",
       "      <td>115.948885</td>\n",
       "      <td>70.106443</td>\n",
       "      <td>563.361252</td>\n",
       "      <td>581.283275</td>\n",
       "      <td>0.0</td>\n",
       "    </tr>\n",
       "    <tr>\n",
       "      <th>2</th>\n",
       "      <td>0.007157</td>\n",
       "      <td>0.163909</td>\n",
       "      <td>-0.000597</td>\n",
       "      <td>0.021186</td>\n",
       "      <td>0.000135</td>\n",
       "      <td>8.991334e-06</td>\n",
       "      <td>-0.000047</td>\n",
       "      <td>1.275087e-07</td>\n",
       "      <td>0.375512</td>\n",
       "      <td>0.001500</td>\n",
       "      <td>...</td>\n",
       "      <td>0.419985</td>\n",
       "      <td>0.312372</td>\n",
       "      <td>0.107521</td>\n",
       "      <td>13.213775</td>\n",
       "      <td>8.456155</td>\n",
       "      <td>18.160576</td>\n",
       "      <td>8.873129</td>\n",
       "      <td>83.093477</td>\n",
       "      <td>85.598446</td>\n",
       "      <td>1.0</td>\n",
       "    </tr>\n",
       "    <tr>\n",
       "      <th>6</th>\n",
       "      <td>0.006639</td>\n",
       "      <td>0.200607</td>\n",
       "      <td>0.000655</td>\n",
       "      <td>0.014624</td>\n",
       "      <td>0.003532</td>\n",
       "      <td>2.499943e-06</td>\n",
       "      <td>-0.000002</td>\n",
       "      <td>3.491741e-06</td>\n",
       "      <td>0.514622</td>\n",
       "      <td>0.001676</td>\n",
       "      <td>...</td>\n",
       "      <td>1.672871</td>\n",
       "      <td>0.152982</td>\n",
       "      <td>1.505175</td>\n",
       "      <td>68.004192</td>\n",
       "      <td>41.506811</td>\n",
       "      <td>90.378978</td>\n",
       "      <td>47.583462</td>\n",
       "      <td>390.092328</td>\n",
       "      <td>403.065602</td>\n",
       "      <td>0.0</td>\n",
       "    </tr>\n",
       "    <tr>\n",
       "      <th>7</th>\n",
       "      <td>0.002032</td>\n",
       "      <td>0.066759</td>\n",
       "      <td>0.000809</td>\n",
       "      <td>0.005578</td>\n",
       "      <td>0.001237</td>\n",
       "      <td>-3.034519e-07</td>\n",
       "      <td>0.000002</td>\n",
       "      <td>-5.162266e-06</td>\n",
       "      <td>0.336923</td>\n",
       "      <td>0.003866</td>\n",
       "      <td>...</td>\n",
       "      <td>0.567739</td>\n",
       "      <td>0.026296</td>\n",
       "      <td>0.540533</td>\n",
       "      <td>83.288929</td>\n",
       "      <td>48.915890</td>\n",
       "      <td>104.028497</td>\n",
       "      <td>115.186729</td>\n",
       "      <td>453.875656</td>\n",
       "      <td>488.961332</td>\n",
       "      <td>0.0</td>\n",
       "    </tr>\n",
       "    <tr>\n",
       "      <th>8</th>\n",
       "      <td>0.009980</td>\n",
       "      <td>0.104041</td>\n",
       "      <td>-0.001952</td>\n",
       "      <td>0.016594</td>\n",
       "      <td>0.002854</td>\n",
       "      <td>3.196121e-05</td>\n",
       "      <td>0.000002</td>\n",
       "      <td>-1.583044e-06</td>\n",
       "      <td>0.363589</td>\n",
       "      <td>0.001753</td>\n",
       "      <td>...</td>\n",
       "      <td>0.682003</td>\n",
       "      <td>0.673506</td>\n",
       "      <td>0.008498</td>\n",
       "      <td>27.842219</td>\n",
       "      <td>18.324798</td>\n",
       "      <td>37.500490</td>\n",
       "      <td>29.669117</td>\n",
       "      <td>172.689476</td>\n",
       "      <td>180.470557</td>\n",
       "      <td>0.0</td>\n",
       "    </tr>\n",
       "  </tbody>\n",
       "</table>\n",
       "<p>5 rows × 161 columns</p>\n",
       "</div>"
      ],
      "text/plain": [
       "           Accuracy_mean  Bearing_mean  acceleration_x_mean  \\\n",
       "bookingID                                                     \n",
       "0               0.009815      0.136455            -0.000588   \n",
       "2               0.007157      0.163909            -0.000597   \n",
       "6               0.006639      0.200607             0.000655   \n",
       "7               0.002032      0.066759             0.000809   \n",
       "8               0.009980      0.104041            -0.001952   \n",
       "\n",
       "           acceleration_y_mean  acceleration_z_mean   gyro_x_mean  \\\n",
       "bookingID                                                           \n",
       "0                    -0.007766            -0.001224  4.543458e-06   \n",
       "2                     0.021186             0.000135  8.991334e-06   \n",
       "6                     0.014624             0.003532  2.499943e-06   \n",
       "7                     0.005578             0.001237 -3.034519e-07   \n",
       "8                     0.016594             0.002854  3.196121e-05   \n",
       "\n",
       "           gyro_y_mean   gyro_z_mean  second_mean  Speed_mean     ...      \\\n",
       "bookingID                                                         ...       \n",
       "0            -0.000005 -3.343785e-06     0.326845    0.002437     ...       \n",
       "2            -0.000047  1.275087e-07     0.375512    0.001500     ...       \n",
       "6            -0.000002  3.491741e-06     0.514622    0.001676     ...       \n",
       "7             0.000002 -5.162266e-06     0.336923    0.003866     ...       \n",
       "8             0.000002 -1.583044e-06     0.363589    0.001753     ...       \n",
       "\n",
       "           down_sum  right_sum  left_sum  rl_smooth_sum  ud_smooth_sum  \\\n",
       "bookingID                                                                \n",
       "0          0.588823   0.708767  0.101698      83.721398      58.861670   \n",
       "2          0.419985   0.312372  0.107521      13.213775       8.456155   \n",
       "6          1.672871   0.152982  1.505175      68.004192      41.506811   \n",
       "7          0.567739   0.026296  0.540533      83.288929      48.915890   \n",
       "8          0.682003   0.673506  0.008498      27.842219      18.324798   \n",
       "\n",
       "           smoothness_sum  rl_intensity_sum  ud_intensity_sum  intensity_sum  \\\n",
       "bookingID                                                                      \n",
       "0              115.948885         70.106443        563.361252     581.283275   \n",
       "2               18.160576          8.873129         83.093477      85.598446   \n",
       "6               90.378978         47.583462        390.092328     403.065602   \n",
       "7              104.028497        115.186729        453.875656     488.961332   \n",
       "8               37.500490         29.669117        172.689476     180.470557   \n",
       "\n",
       "           label_mean  \n",
       "bookingID              \n",
       "0                 0.0  \n",
       "2                 1.0  \n",
       "6                 0.0  \n",
       "7                 0.0  \n",
       "8                 0.0  \n",
       "\n",
       "[5 rows x 161 columns]"
      ]
     },
     "execution_count": 14,
     "metadata": {},
     "output_type": "execute_result"
    }
   ],
   "source": [
    "if os.path.isfile('train_data_grouped.h5'):\n",
    "    train_data = pd.read_hdf('train_data_grouped.h5', 'grabai')\n",
    "    test_data = pd.read_hdf('val_data_grouped.h5', 'grabai')\n",
    "else:\n",
    "    train_data = grouped_data(train_data)\n",
    "    test_data = grouped_data(test_data)\n",
    "    train_data.to_hdf('train_data_grouped.h5', 'grabai')\n",
    "    test_data.to_hdf('val_data_grouped.h5', 'grabai')\n",
    "train_data.head()"
   ]
  },
  {
   "cell_type": "code",
   "execution_count": 15,
   "metadata": {},
   "outputs": [
    {
     "data": {
      "text/plain": [
       "array([0. , 1. , 0.5])"
      ]
     },
     "execution_count": 15,
     "metadata": {},
     "output_type": "execute_result"
    }
   ],
   "source": [
    "train_data.label_mean.unique()"
   ]
  },
  {
   "cell_type": "markdown",
   "metadata": {},
   "source": [
    "#### Note\n",
    "* It appears that there are bookingID where label is both one and zero (safe and unsafe)\n",
    "* Since these observations are a small portion of the whole data set they will be removed"
   ]
  },
  {
   "cell_type": "code",
   "execution_count": 16,
   "metadata": {},
   "outputs": [],
   "source": [
    "train_data = train_data[train_data.label_mean != 0.5]\n",
    "test_data = test_data[test_data.label_mean != 0.5]"
   ]
  },
  {
   "cell_type": "code",
   "execution_count": 17,
   "metadata": {},
   "outputs": [
    {
     "data": {
      "text/html": [
       "<div>\n",
       "<style>\n",
       "    .dataframe thead tr:only-child th {\n",
       "        text-align: right;\n",
       "    }\n",
       "\n",
       "    .dataframe thead th {\n",
       "        text-align: left;\n",
       "    }\n",
       "\n",
       "    .dataframe tbody tr th {\n",
       "        vertical-align: top;\n",
       "    }\n",
       "</style>\n",
       "<table border=\"1\" class=\"dataframe\">\n",
       "  <thead>\n",
       "    <tr style=\"text-align: right;\">\n",
       "      <th></th>\n",
       "      <th>bookingID</th>\n",
       "      <th>Accuracy_mean</th>\n",
       "      <th>Bearing_mean</th>\n",
       "      <th>acceleration_x_mean</th>\n",
       "      <th>acceleration_y_mean</th>\n",
       "      <th>acceleration_z_mean</th>\n",
       "      <th>gyro_x_mean</th>\n",
       "      <th>gyro_y_mean</th>\n",
       "      <th>gyro_z_mean</th>\n",
       "      <th>second_mean</th>\n",
       "      <th>...</th>\n",
       "      <th>down_sum</th>\n",
       "      <th>right_sum</th>\n",
       "      <th>left_sum</th>\n",
       "      <th>rl_smooth_sum</th>\n",
       "      <th>ud_smooth_sum</th>\n",
       "      <th>smoothness_sum</th>\n",
       "      <th>rl_intensity_sum</th>\n",
       "      <th>ud_intensity_sum</th>\n",
       "      <th>intensity_sum</th>\n",
       "      <th>label_mean</th>\n",
       "    </tr>\n",
       "  </thead>\n",
       "  <tbody>\n",
       "    <tr>\n",
       "      <th>0</th>\n",
       "      <td>0</td>\n",
       "      <td>2.143321e-06</td>\n",
       "      <td>0.000030</td>\n",
       "      <td>-1.283892e-07</td>\n",
       "      <td>-0.000002</td>\n",
       "      <td>-2.673684e-07</td>\n",
       "      <td>9.921431e-10</td>\n",
       "      <td>-1.029598e-09</td>\n",
       "      <td>-7.301736e-10</td>\n",
       "      <td>0.000071</td>\n",
       "      <td>...</td>\n",
       "      <td>0.000129</td>\n",
       "      <td>0.000155</td>\n",
       "      <td>0.000022</td>\n",
       "      <td>0.018282</td>\n",
       "      <td>0.012853</td>\n",
       "      <td>0.025319</td>\n",
       "      <td>0.015309</td>\n",
       "      <td>0.123020</td>\n",
       "      <td>0.126933</td>\n",
       "      <td>0.0</td>\n",
       "    </tr>\n",
       "    <tr>\n",
       "      <th>1</th>\n",
       "      <td>2</td>\n",
       "      <td>8.093956e-06</td>\n",
       "      <td>0.000185</td>\n",
       "      <td>-6.749148e-07</td>\n",
       "      <td>0.000024</td>\n",
       "      <td>1.531340e-07</td>\n",
       "      <td>1.016852e-08</td>\n",
       "      <td>-5.343612e-08</td>\n",
       "      <td>1.442027e-10</td>\n",
       "      <td>0.000425</td>\n",
       "      <td>...</td>\n",
       "      <td>0.000475</td>\n",
       "      <td>0.000353</td>\n",
       "      <td>0.000122</td>\n",
       "      <td>0.014944</td>\n",
       "      <td>0.009563</td>\n",
       "      <td>0.020538</td>\n",
       "      <td>0.010035</td>\n",
       "      <td>0.093972</td>\n",
       "      <td>0.096805</td>\n",
       "      <td>1.0</td>\n",
       "    </tr>\n",
       "    <tr>\n",
       "      <th>2</th>\n",
       "      <td>6</td>\n",
       "      <td>1.336457e-06</td>\n",
       "      <td>0.000040</td>\n",
       "      <td>1.319495e-07</td>\n",
       "      <td>0.000003</td>\n",
       "      <td>7.109463e-07</td>\n",
       "      <td>5.032373e-10</td>\n",
       "      <td>-4.651618e-10</td>\n",
       "      <td>7.028859e-10</td>\n",
       "      <td>0.000104</td>\n",
       "      <td>...</td>\n",
       "      <td>0.000337</td>\n",
       "      <td>0.000031</td>\n",
       "      <td>0.000303</td>\n",
       "      <td>0.013689</td>\n",
       "      <td>0.008355</td>\n",
       "      <td>0.018193</td>\n",
       "      <td>0.009579</td>\n",
       "      <td>0.078525</td>\n",
       "      <td>0.081137</td>\n",
       "      <td>0.0</td>\n",
       "    </tr>\n",
       "    <tr>\n",
       "      <th>3</th>\n",
       "      <td>7</td>\n",
       "      <td>4.711748e-07</td>\n",
       "      <td>0.000015</td>\n",
       "      <td>1.875228e-07</td>\n",
       "      <td>0.000001</td>\n",
       "      <td>2.868744e-07</td>\n",
       "      <td>-7.036697e-11</td>\n",
       "      <td>4.329825e-10</td>\n",
       "      <td>-1.197070e-09</td>\n",
       "      <td>0.000078</td>\n",
       "      <td>...</td>\n",
       "      <td>0.000132</td>\n",
       "      <td>0.000006</td>\n",
       "      <td>0.000125</td>\n",
       "      <td>0.019314</td>\n",
       "      <td>0.011343</td>\n",
       "      <td>0.024123</td>\n",
       "      <td>0.026710</td>\n",
       "      <td>0.105248</td>\n",
       "      <td>0.113384</td>\n",
       "      <td>0.0</td>\n",
       "    </tr>\n",
       "    <tr>\n",
       "      <th>4</th>\n",
       "      <td>8</td>\n",
       "      <td>5.683256e-06</td>\n",
       "      <td>0.000059</td>\n",
       "      <td>-1.111456e-06</td>\n",
       "      <td>0.000009</td>\n",
       "      <td>1.625133e-06</td>\n",
       "      <td>1.820163e-08</td>\n",
       "      <td>1.179982e-09</td>\n",
       "      <td>-9.015298e-10</td>\n",
       "      <td>0.000207</td>\n",
       "      <td>...</td>\n",
       "      <td>0.000388</td>\n",
       "      <td>0.000384</td>\n",
       "      <td>0.000005</td>\n",
       "      <td>0.015856</td>\n",
       "      <td>0.010436</td>\n",
       "      <td>0.021356</td>\n",
       "      <td>0.016896</td>\n",
       "      <td>0.098345</td>\n",
       "      <td>0.102776</td>\n",
       "      <td>0.0</td>\n",
       "    </tr>\n",
       "  </tbody>\n",
       "</table>\n",
       "<p>5 rows × 162 columns</p>\n",
       "</div>"
      ],
      "text/plain": [
       "   bookingID  Accuracy_mean  Bearing_mean  acceleration_x_mean  \\\n",
       "0          0   2.143321e-06      0.000030        -1.283892e-07   \n",
       "1          2   8.093956e-06      0.000185        -6.749148e-07   \n",
       "2          6   1.336457e-06      0.000040         1.319495e-07   \n",
       "3          7   4.711748e-07      0.000015         1.875228e-07   \n",
       "4          8   5.683256e-06      0.000059        -1.111456e-06   \n",
       "\n",
       "   acceleration_y_mean  acceleration_z_mean   gyro_x_mean   gyro_y_mean  \\\n",
       "0            -0.000002        -2.673684e-07  9.921431e-10 -1.029598e-09   \n",
       "1             0.000024         1.531340e-07  1.016852e-08 -5.343612e-08   \n",
       "2             0.000003         7.109463e-07  5.032373e-10 -4.651618e-10   \n",
       "3             0.000001         2.868744e-07 -7.036697e-11  4.329825e-10   \n",
       "4             0.000009         1.625133e-06  1.820163e-08  1.179982e-09   \n",
       "\n",
       "    gyro_z_mean  second_mean     ...      down_sum  right_sum  left_sum  \\\n",
       "0 -7.301736e-10     0.000071     ...      0.000129   0.000155  0.000022   \n",
       "1  1.442027e-10     0.000425     ...      0.000475   0.000353  0.000122   \n",
       "2  7.028859e-10     0.000104     ...      0.000337   0.000031  0.000303   \n",
       "3 -1.197070e-09     0.000078     ...      0.000132   0.000006  0.000125   \n",
       "4 -9.015298e-10     0.000207     ...      0.000388   0.000384  0.000005   \n",
       "\n",
       "   rl_smooth_sum  ud_smooth_sum  smoothness_sum  rl_intensity_sum  \\\n",
       "0       0.018282       0.012853        0.025319          0.015309   \n",
       "1       0.014944       0.009563        0.020538          0.010035   \n",
       "2       0.013689       0.008355        0.018193          0.009579   \n",
       "3       0.019314       0.011343        0.024123          0.026710   \n",
       "4       0.015856       0.010436        0.021356          0.016896   \n",
       "\n",
       "   ud_intensity_sum  intensity_sum  label_mean  \n",
       "0          0.123020       0.126933         0.0  \n",
       "1          0.093972       0.096805         1.0  \n",
       "2          0.078525       0.081137         0.0  \n",
       "3          0.105248       0.113384         0.0  \n",
       "4          0.098345       0.102776         0.0  \n",
       "\n",
       "[5 rows x 162 columns]"
      ]
     },
     "execution_count": 17,
     "metadata": {},
     "output_type": "execute_result"
    }
   ],
   "source": [
    "if os.path.isfile('train_data_final.h5'):\n",
    "    train_data = pd.read_hdf('train_data_final.h5', 'grabai')\n",
    "    test_data = pd.read_hdf('val_data_final.h5', 'grabai')\n",
    "else:\n",
    "    cols = list(train_data)\n",
    "    cols.remove('label_mean')\n",
    "\n",
    "    scaler2 = Normalizer()\n",
    "    scaler2 = scaler2.fit(train_data[cols])\n",
    "    train_data[cols] = scaler2.transform(train_data[cols])\n",
    "    test_data[cols] = scaler2.transform(test_data[cols])\n",
    "    \n",
    "    train_data = train_data.reset_index()\n",
    "    test_data = test_data.reset_index()\n",
    "\n",
    "    train_data.to_hdf('train_data_final.h5', 'grabai')\n",
    "    test_data.to_hdf('val_data_final.h5', 'grabai')\n",
    "\n",
    "train_data.head()"
   ]
  },
  {
   "cell_type": "code",
   "execution_count": 18,
   "metadata": {},
   "outputs": [
    {
     "data": {
      "text/plain": [
       "[<matplotlib.lines.Line2D at 0x1a8b2eb278>]"
      ]
     },
     "execution_count": 18,
     "metadata": {},
     "output_type": "execute_result"
    },
    {
     "data": {
      "image/png": "[encoded data removed]",
      "text/plain": [
       "<matplotlib.figure.Figure at 0x11228d5c0>"
      ]
     },
     "metadata": {
      "needs_background": "light"
     },
     "output_type": "display_data"
    }
   ],
   "source": [
    "from sklearn.decomposition import PCA\n",
    "\n",
    "X_train = train_data.iloc[:, 1:-1]\n",
    "y_train = train_data.iloc[:, -1]\n",
    "\n",
    "X_test = test_data.iloc[:, 1:-1]\n",
    "y_test = test_data.iloc[:, -1]\n",
    "\n",
    "pca = PCA(n_components=train_data.shape[1]-2)\n",
    "pca.fit(X_train)\n",
    "plt.plot(pca.explained_variance_ratio_)"
   ]
  },
  {
   "cell_type": "markdown",
   "metadata": {},
   "source": [
    "#### Note\n",
    "* Less than 10 variables are responsible for all the variance\n",
    "* Therefore will stick to 10 variables for machine learning portioins"
   ]
  },
  {
   "cell_type": "code",
   "execution_count": 19,
   "metadata": {},
   "outputs": [
    {
     "data": {
      "image/png": "[encoded data removed]",
      "text/plain": [
       "<matplotlib.figure.Figure at 0x112205978>"
      ]
     },
     "metadata": {
      "needs_background": "light"
     },
     "output_type": "display_data"
    }
   ],
   "source": [
    "pca = PCA(n_components=10)\n",
    "pca.fit(X_train)\n",
    "plt.plot(pca.explained_variance_ratio_)\n",
    "X_train = pca.transform(X_train)\n",
    "X_test = pca.transform(X_test)\n",
    "\n",
    "y_train = np.array(y_train)[:, np.newaxis]\n",
    "y_test = np.array(y_test)[:, np.newaxis]"
   ]
  },
  {
   "cell_type": "markdown",
   "metadata": {},
   "source": [
    "### Logistic Regression"
   ]
  },
  {
   "cell_type": "code",
   "execution_count": 20,
   "metadata": {},
   "outputs": [
    {
     "name": "stdout",
     "output_type": "stream",
     "text": [
      "             precision    recall  f1-score   support\n",
      "\n",
      "        0.0       0.77      1.00      0.87      4552\n",
      "        1.0       0.89      0.04      0.08      1445\n",
      "\n",
      "avg / total       0.80      0.77      0.68      5997\n",
      "\n"
     ]
    },
    {
     "name": "stderr",
     "output_type": "stream",
     "text": [
      "/Users/Anas/anaconda3/lib/python3.6/site-packages/sklearn/utils/validation.py:578: DataConversionWarning: A column-vector y was passed when a 1d array was expected. Please change the shape of y to (n_samples, ), for example using ravel().\n",
      "  y = column_or_1d(y, warn=True)\n"
     ]
    }
   ],
   "source": [
    "from sklearn.model_selection import train_test_split, KFold, GridSearchCV\n",
    "from sklearn.metrics import confusion_matrix, classification_report\n",
    "from sklearn.linear_model import LogisticRegression\n",
    "\n",
    "lr = LogisticRegression()\n",
    "lr.fit(X_train, y_train)\n",
    "y_hat_lr = lr.predict(X_test)\n",
    "print(classification_report(y_test, y_hat_lr))"
   ]
  },
  {
   "cell_type": "code",
   "execution_count": 21,
   "metadata": {},
   "outputs": [
    {
     "name": "stdout",
     "output_type": "stream",
     "text": [
      "[[4544    8]\n",
      " [1383   62]]\n"
     ]
    }
   ],
   "source": [
    "print(confusion_matrix(y_test, y_hat_lr))"
   ]
  },
  {
   "cell_type": "markdown",
   "metadata": {},
   "source": [
    "#### Note\n",
    "* Accuracy is about 76%\n",
    "* Model is very weak at predicting cases of dangerous driving"
   ]
  },
  {
   "cell_type": "code",
   "execution_count": 22,
   "metadata": {},
   "outputs": [],
   "source": [
    "folds = KFold(n_splits=10, shuffle=True, random_state=93)\n",
    "hyperparams = {'C': [0.1, 1, 10, 100, 1000, 10000]}\n",
    "est = LogisticRegression()\n",
    "cv = GridSearchCV(estimator=est,\n",
    "                  param_grid=hyperparams,\n",
    "                  scoring=['accuracy', 'f1_weighted', 'precision'],\n",
    "                  cv=folds,\n",
    "                  return_train_score=True,\n",
    "                  refit='f1_weighted')\n",
    "\n",
    "cv.fit(X_train, y_train)\n",
    "\n",
    "pd.DataFrame(cv.cv_results_)[['param_C', 'mean_test_precision', 'mean_test_accuracy', 'mean_test_f1_weighted']]"
   ]
  },
  {
   "cell_type": "code",
   "execution_count": 23,
   "metadata": {},
   "outputs": [
    {
     "name": "stdout",
     "output_type": "stream",
     "text": [
      "             precision    recall  f1-score   support\n",
      "\n",
      "        0.0       0.78      0.98      0.87      4552\n",
      "        1.0       0.65      0.11      0.19      1445\n",
      "\n",
      "avg / total       0.75      0.77      0.70      5997\n",
      "\n"
     ]
    },
    {
     "name": "stderr",
     "output_type": "stream",
     "text": [
      "/Users/Anas/anaconda3/lib/python3.6/site-packages/sklearn/utils/validation.py:578: DataConversionWarning: A column-vector y was passed when a 1d array was expected. Please change the shape of y to (n_samples, ), for example using ravel().\n",
      "  y = column_or_1d(y, warn=True)\n"
     ]
    }
   ],
   "source": [
    "# Since 10000 gave the best f1 score, set C=10000\n",
    "lr = LogisticRegression(C=10000)\n",
    "lr.fit(X_train, y_train)\n",
    "y_hat_lr = lr.predict(X_test)\n",
    "print(classification_report(y_test, y_hat_lr))"
   ]
  },
  {
   "cell_type": "code",
   "execution_count": 24,
   "metadata": {},
   "outputs": [
    {
     "name": "stdout",
     "output_type": "stream",
     "text": [
      "[[4468   84]\n",
      " [1288  157]]\n"
     ]
    }
   ],
   "source": [
    "print(confusion_matrix(y_test, y_hat_lr))"
   ]
  },
  {
   "cell_type": "markdown",
   "metadata": {},
   "source": [
    "### Decision Tree"
   ]
  },
  {
   "cell_type": "code",
   "execution_count": 25,
   "metadata": {},
   "outputs": [
    {
     "name": "stderr",
     "output_type": "stream",
     "text": [
      "/Users/Anas/anaconda3/lib/python3.6/site-packages/sklearn/ensemble/weight_boosting.py:29: DeprecationWarning: numpy.core.umath_tests is an internal NumPy module and should not be imported. It will be removed in a future NumPy release.\n",
      "  from numpy.core.umath_tests import inner1d\n"
     ]
    },
    {
     "name": "stdout",
     "output_type": "stream",
     "text": [
      "             precision    recall  f1-score   support\n",
      "\n",
      "        0.0       0.77      0.99      0.87      4552\n",
      "        1.0       0.70      0.09      0.15      1445\n",
      "\n",
      "avg / total       0.75      0.77      0.70      5997\n",
      "\n"
     ]
    }
   ],
   "source": [
    "from sklearn.tree import DecisionTreeClassifier\n",
    "from sklearn.ensemble import RandomForestClassifier\n",
    "\n",
    "classifier = DecisionTreeClassifier(max_depth=5, criterion='gini')\n",
    "classifier.fit(X_train, y_train)\n",
    "y_hat_tree = classifier.predict(X_test)\n",
    "print(classification_report(y_test, y_hat_tree))"
   ]
  },
  {
   "cell_type": "code",
   "execution_count": 26,
   "metadata": {},
   "outputs": [
    {
     "name": "stdout",
     "output_type": "stream",
     "text": [
      "[[4498   54]\n",
      " [1321  124]]\n"
     ]
    }
   ],
   "source": [
    "print(confusion_matrix(y_test, y_hat_tree))"
   ]
  },
  {
   "cell_type": "markdown",
   "metadata": {},
   "source": [
    "#### Note\n",
    "* Without much tuning a decision tree performs slightly better at identifying dangerous driving"
   ]
  },
  {
   "cell_type": "code",
   "execution_count": 27,
   "metadata": {},
   "outputs": [],
   "source": [
    "hyperparams = {'criterion': ['gini', 'entropy'],\n",
    "               'max_depth': [4, 5, 6, 7, 8, 9, 10],\n",
    "               'min_samples_leaf': [1, 10, 50, 100]}\n",
    "est = DecisionTreeClassifier()\n",
    "cv = GridSearchCV(estimator=est,\n",
    "                  param_grid=hyperparams,\n",
    "                  scoring=['accuracy', 'f1_weighted', 'precision'],\n",
    "                  verbose=1,\n",
    "                  cv=folds,\n",
    "                  return_train_score=True,\n",
    "                  refit='f1_weighted')\n",
    "\n",
    "cv.fit(X_train, y_train)\n",
    "\n",
    "pd.DataFrame(cv.cv_results_)[['param_criterion', 'param_max_depth', 'param_min_samples_leaf', 'mean_test_precision', 'mean_test_accuracy', 'mean_test_f1_weighted']]"
   ]
  },
  {
   "cell_type": "code",
   "execution_count": 28,
   "metadata": {},
   "outputs": [
    {
     "name": "stdout",
     "output_type": "stream",
     "text": [
      "             precision    recall  f1-score   support\n",
      "\n",
      "        0.0       0.79      0.94      0.86      4552\n",
      "        1.0       0.50      0.20      0.28      1445\n",
      "\n",
      "avg / total       0.72      0.76      0.72      5997\n",
      "\n"
     ]
    }
   ],
   "source": [
    "classifier = DecisionTreeClassifier(max_depth=8, criterion='entropy', min_samples_leaf=100)\n",
    "classifier.fit(X_train, y_train)\n",
    "y_hat_tree = classifier.predict(X_test)\n",
    "print(classification_report(y_test, y_hat_tree))"
   ]
  },
  {
   "cell_type": "code",
   "execution_count": 29,
   "metadata": {},
   "outputs": [
    {
     "name": "stdout",
     "output_type": "stream",
     "text": [
      "[[4267  285]\n",
      " [1160  285]]\n"
     ]
    }
   ],
   "source": [
    "print(confusion_matrix(y_test, y_hat_tree))"
   ]
  },
  {
   "cell_type": "code",
   "execution_count": 30,
   "metadata": {},
   "outputs": [
    {
     "name": "stderr",
     "output_type": "stream",
     "text": [
      "/Users/Anas/anaconda3/lib/python3.6/site-packages/ipykernel_launcher.py:2: DataConversionWarning: A column-vector y was passed when a 1d array was expected. Please change the shape of y to (n_samples,), for example using ravel().\n",
      "  \n"
     ]
    },
    {
     "name": "stdout",
     "output_type": "stream",
     "text": [
      "             precision    recall  f1-score   support\n",
      "\n",
      "        0.0       0.78      0.94      0.85      4552\n",
      "        1.0       0.47      0.16      0.24      1445\n",
      "\n",
      "avg / total       0.71      0.75      0.71      5997\n",
      "\n"
     ]
    }
   ],
   "source": [
    "classifier = RandomForestClassifier()\n",
    "classifier.fit(X_train, y_train)\n",
    "y_hat_rf = classifier.predict(X_test)\n",
    "print(classification_report(y_test, y_hat_rf))"
   ]
  },
  {
   "cell_type": "code",
   "execution_count": 31,
   "metadata": {
    "scrolled": true
   },
   "outputs": [
    {
     "name": "stdout",
     "output_type": "stream",
     "text": [
      "[[4289  263]\n",
      " [1208  237]]\n"
     ]
    }
   ],
   "source": [
    "print(confusion_matrix(y_test, y_hat_rf))"
   ]
  },
  {
   "cell_type": "code",
   "execution_count": 32,
   "metadata": {
    "collapsed": true
   },
   "outputs": [],
   "source": [
    "# import warnings\n",
    "# warnings.filterwarnings('ignore')\n",
    "\n",
    "# hyperparams = {'max_depth': [None, 4, 5, 6, 7, 8, 9, 10],\n",
    "#                'min_samples_leaf': [1, 10, 50, 100]}\n",
    "# est = RandomForestClassifier(criterion='entropy', n_estimators=100)\n",
    "# cv = GridSearchCV(estimator=est,\n",
    "#                   param_grid=hyperparams,\n",
    "#                   scoring=['accuracy', 'f1_weighted', 'precision'],\n",
    "#                   verbose=1,\n",
    "#                   cv=folds,\n",
    "#                   return_train_score=True,\n",
    "#                   refit='f1_weighted')\n",
    "\n",
    "# cv.fit(X_train, y_train)\n",
    "\n",
    "# pd.DataFrame(cv.cv_results_)[['param_max_depth', 'param_min_samples_leaf', 'mean_test_precision', 'mean_test_accuracy', 'mean_test_f1_weighted']]"
   ]
  },
  {
   "cell_type": "code",
   "execution_count": 33,
   "metadata": {},
   "outputs": [
    {
     "name": "stderr",
     "output_type": "stream",
     "text": [
      "/Users/Anas/anaconda3/lib/python3.6/site-packages/ipykernel_launcher.py:2: DataConversionWarning: A column-vector y was passed when a 1d array was expected. Please change the shape of y to (n_samples,), for example using ravel().\n",
      "  \n"
     ]
    },
    {
     "name": "stdout",
     "output_type": "stream",
     "text": [
      "             precision    recall  f1-score   support\n",
      "\n",
      "        0.0       0.78      0.95      0.86      4552\n",
      "        1.0       0.49      0.15      0.23      1445\n",
      "\n",
      "avg / total       0.71      0.76      0.71      5997\n",
      "\n"
     ]
    }
   ],
   "source": [
    "classifier = RandomForestClassifier(criterion='entropy', n_estimators=10)\n",
    "classifier.fit(X_train, y_train)\n",
    "y_hat_rf = classifier.predict(X_test)\n",
    "print(classification_report(y_test, y_hat_rf))"
   ]
  },
  {
   "cell_type": "code",
   "execution_count": 34,
   "metadata": {},
   "outputs": [
    {
     "name": "stdout",
     "output_type": "stream",
     "text": [
      "[[4324  228]\n",
      " [1223  222]]\n"
     ]
    }
   ],
   "source": [
    "print(confusion_matrix(y_test, y_hat_rf))"
   ]
  },
  {
   "cell_type": "markdown",
   "metadata": {},
   "source": [
    "### SVM"
   ]
  },
  {
   "cell_type": "code",
   "execution_count": 1,
   "metadata": {},
   "outputs": [
    {
     "ename": "NameError",
     "evalue": "name 'X_train' is not defined",
     "output_type": "error",
     "traceback": [
      "\u001b[0;31m---------------------------------------------------------------------------\u001b[0m",
      "\u001b[0;31mNameError\u001b[0m                                 Traceback (most recent call last)",
      "\u001b[0;32m<ipython-input-1-5384e22467d6>\u001b[0m in \u001b[0;36m<module>\u001b[0;34m()\u001b[0m\n\u001b[1;32m      1\u001b[0m \u001b[0;32mfrom\u001b[0m \u001b[0msklearn\u001b[0m\u001b[0;34m.\u001b[0m\u001b[0msvm\u001b[0m \u001b[0;32mimport\u001b[0m \u001b[0mSVC\u001b[0m\u001b[0;34m\u001b[0m\u001b[0;34m\u001b[0m\u001b[0m\n\u001b[1;32m      2\u001b[0m \u001b[0mclassifier\u001b[0m \u001b[0;34m=\u001b[0m \u001b[0mSVC\u001b[0m\u001b[0;34m(\u001b[0m\u001b[0mprobability\u001b[0m\u001b[0;34m=\u001b[0m\u001b[0;32mTrue\u001b[0m\u001b[0;34m)\u001b[0m\u001b[0;34m\u001b[0m\u001b[0;34m\u001b[0m\u001b[0m\n\u001b[0;32m----> 3\u001b[0;31m \u001b[0mclassifier\u001b[0m\u001b[0;34m.\u001b[0m\u001b[0mfit\u001b[0m\u001b[0;34m(\u001b[0m\u001b[0mX_train\u001b[0m\u001b[0;34m,\u001b[0m \u001b[0my_train\u001b[0m\u001b[0;34m)\u001b[0m\u001b[0;34m\u001b[0m\u001b[0;34m\u001b[0m\u001b[0m\n\u001b[0m\u001b[1;32m      4\u001b[0m \u001b[0my_hat_svm\u001b[0m \u001b[0;34m=\u001b[0m \u001b[0mclassifier\u001b[0m\u001b[0;34m.\u001b[0m\u001b[0mpredict\u001b[0m\u001b[0;34m(\u001b[0m\u001b[0mX_test\u001b[0m\u001b[0;34m)\u001b[0m\u001b[0;34m\u001b[0m\u001b[0;34m\u001b[0m\u001b[0m\n\u001b[1;32m      5\u001b[0m \u001b[0mprint\u001b[0m\u001b[0;34m(\u001b[0m\u001b[0mclassification_report\u001b[0m\u001b[0;34m(\u001b[0m\u001b[0my_test\u001b[0m\u001b[0;34m,\u001b[0m \u001b[0my_hat_svm\u001b[0m\u001b[0;34m)\u001b[0m\u001b[0;34m)\u001b[0m\u001b[0;34m\u001b[0m\u001b[0;34m\u001b[0m\u001b[0m\n",
      "\u001b[0;31mNameError\u001b[0m: name 'X_train' is not defined"
     ]
    }
   ],
   "source": [
    "from sklearn.svm import SVC\n",
    "classifier = SVC()\n",
    "classifier.fit(X_train, y_train)\n",
    "y_hat_svm = classifier.predict(X_test)\n",
    "print(classification_report(y_test, y_hat_svm))"
   ]
  },
  {
   "cell_type": "code",
   "execution_count": 36,
   "metadata": {},
   "outputs": [
    {
     "name": "stdout",
     "output_type": "stream",
     "text": [
      "[[4552    0]\n",
      " [1445    0]]\n"
     ]
    }
   ],
   "source": [
    "print(confusion_matrix(y_test, y_hat_svm))"
   ]
  },
  {
   "cell_type": "code",
   "execution_count": 37,
   "metadata": {},
   "outputs": [],
   "source": [
    "# import warnings \n",
    "# warnings.filterwarnings('ignore')\n",
    "\n",
    "# folds = KFold(n_splits=5, shuffle=True, random_state=93)\n",
    "# hyperparams = {'C': [0.1, 1, 10, 100, 1000], \n",
    "#                'gamma': [1e-5, 1e-4, 1e-3, 1e-2]} \n",
    "# est = SVC(kernel='linear') \n",
    "# cv = GridSearchCV(estimator=est, \n",
    "#                   param_grid=hyperparams, \n",
    "#                   scoring=['accuracy', 'f1_weighted', 'precision'], \n",
    "#                   verbose=1, \n",
    "#                   cv=folds, \n",
    "#                   return_train_score=True, \n",
    "#                   refit='f1_weighted')\n",
    "\n",
    "# cv.fit(X_train, y_train)\n",
    "\n",
    "# res = pd.DataFrame(cv.cv_results_)\n",
    "# res[['param_C', 'param_gamma', 'mean_test_precision', 'mean_test_accuracy', 'mean_test_f1_weighted']]\n"
   ]
  },
  {
   "cell_type": "code",
   "execution_count": 38,
   "metadata": {},
   "outputs": [],
   "source": [
    "# hyperparams = {'C': [0.1, 1, 10, 100, 1000], \n",
    "#                'gamma': [1e-5, 1e-4, 1e-3, 1e-2]} \n",
    "# est = SVC(kernel='rbf') \n",
    "# cv = GridSearchCV(estimator=est, \n",
    "#                   param_grid=hyperparams, \n",
    "#                   scoring=['accuracy', 'f1_weighted', 'precision'], \n",
    "#                   verbose=1, \n",
    "#                   cv=folds, \n",
    "#                   return_train_score=True, \n",
    "#                   refit='f1_weighted')\n",
    "\n",
    "# cv.fit(X_train, y_train)\n",
    "\n",
    "# res = pd.DataFrame(cv.cv_results_)\n",
    "# res[['param_C', 'param_gamma', 'mean_test_precision', 'mean_test_accuracy', 'mean_test_f1_weighted']]\n"
   ]
  },
  {
   "cell_type": "code",
   "execution_count": 39,
   "metadata": {},
   "outputs": [],
   "source": [
    "# hyperparams = {'C': [0.1, 1, 10, 100, 1000], \n",
    "#                'gamma': [1e-5, 1e-4, 1e-3, 1e-2],\n",
    "#                'degree': [3, 4]} \n",
    "# est = SVC(kernel='poly') \n",
    "# cv = GridSearchCV(estimator=est, \n",
    "#                   param_grid=hyperparams, \n",
    "#                   scoring=['accuracy', 'f1_weighted', 'precision'], \n",
    "#                   verbose=1, \n",
    "#                   cv=folds, \n",
    "#                   return_train_score=True, \n",
    "#                   refit='f1_weighted')\n",
    "\n",
    "# cv.fit(X_train, y_train)\n",
    "\n",
    "# res = pd.DataFrame(cv.cv_results_)\n",
    "# res[['param_C', 'param_gamma', 'param_degree', 'mean_test_precision', 'mean_test_accuracy', 'mean_test_f1_weighted']]\n"
   ]
  },
  {
   "cell_type": "code",
   "execution_count": 40,
   "metadata": {},
   "outputs": [],
   "source": [
    "# hyperparams = {'C': [0.1, 1, 10, 100, 1000], \n",
    "#                'gamma': [1e-5, 1e-4, 1e-3, 1e-2]} \n",
    "# est = SVC(kernel='sigmoid') \n",
    "# cv = GridSearchCV(estimator=est, \n",
    "#                   param_grid=hyperparams, \n",
    "#                   scoring=['accuracy', 'f1_weighted', 'precision'], \n",
    "#                   verbose=1, \n",
    "#                   cv=folds, \n",
    "#                   return_train_score=True, \n",
    "#                   refit='f1_weighted')\n",
    "\n",
    "# cv.fit(X_train, y_train)\n",
    "\n",
    "# res = pd.DataFrame(cv.cv_results_)\n",
    "# res[['param_C', 'param_gamma', 'mean_test_precision', 'mean_test_accuracy', 'mean_test_f1_weighted']]\n"
   ]
  },
  {
   "cell_type": "markdown",
   "metadata": {},
   "source": [
    "### Gradient Boosting"
   ]
  },
  {
   "cell_type": "code",
   "execution_count": 41,
   "metadata": {},
   "outputs": [
    {
     "name": "stderr",
     "output_type": "stream",
     "text": [
      "/Users/Anas/anaconda3/lib/python3.6/site-packages/sklearn/utils/validation.py:578: DataConversionWarning: A column-vector y was passed when a 1d array was expected. Please change the shape of y to (n_samples, ), for example using ravel().\n",
      "  y = column_or_1d(y, warn=True)\n"
     ]
    },
    {
     "name": "stdout",
     "output_type": "stream",
     "text": [
      "             precision    recall  f1-score   support\n",
      "\n",
      "        0.0       0.78      0.98      0.87      4552\n",
      "        1.0       0.64      0.13      0.22      1445\n",
      "\n",
      "avg / total       0.75      0.77      0.71      5997\n",
      "\n"
     ]
    }
   ],
   "source": [
    "from sklearn.ensemble import GradientBoostingClassifier\n",
    "classifier = GradientBoostingClassifier()\n",
    "classifier.fit(X_train, y_train)\n",
    "y_hat_grad = classifier.predict(X_test)\n",
    "print(classification_report(y_test, y_hat_grad))"
   ]
  },
  {
   "cell_type": "code",
   "execution_count": 42,
   "metadata": {},
   "outputs": [
    {
     "name": "stdout",
     "output_type": "stream",
     "text": [
      "[[4447  105]\n",
      " [1255  190]]\n"
     ]
    }
   ],
   "source": [
    "print(confusion_matrix(y_test, y_hat_grad))"
   ]
  },
  {
   "cell_type": "code",
   "execution_count": 43,
   "metadata": {},
   "outputs": [],
   "source": [
    "# hyperparams = {'learning_rate': [1e-3, 1e-2, 1e-1],\n",
    "#                'subsample': [0.6, 0.7, 0.8, 1.0],\n",
    "#                'min_samples_split': [2, 10, 50]} \n",
    "# est = GradientBoostingClassifier()\n",
    "# cv = GridSearchCV(estimator=est, \n",
    "#                   param_grid=hyperparams, \n",
    "#                   scoring=['accuracy', 'f1_weighted', 'precision'], \n",
    "#                   verbose=1, \n",
    "#                   cv=folds, \n",
    "#                   return_train_score=True, \n",
    "#                   refit='f1_weighted')\n",
    "\n",
    "# cv.fit(X_train, y_train)\n",
    "\n",
    "# res = pd.DataFrame(cv.cv_results_)\n",
    "# res[['param_learning_rate', 'param_subsample', 'param_min_samples_split','mean_test_precision', 'mean_test_accuracy', 'mean_test_f1_weighted']]"
   ]
  },
  {
   "cell_type": "code",
   "execution_count": 44,
   "metadata": {},
   "outputs": [
    {
     "name": "stderr",
     "output_type": "stream",
     "text": [
      "/Users/Anas/anaconda3/lib/python3.6/site-packages/sklearn/utils/validation.py:578: DataConversionWarning: A column-vector y was passed when a 1d array was expected. Please change the shape of y to (n_samples, ), for example using ravel().\n",
      "  y = column_or_1d(y, warn=True)\n"
     ]
    },
    {
     "name": "stdout",
     "output_type": "stream",
     "text": [
      "             precision    recall  f1-score   support\n",
      "\n",
      "        0.0       0.78      0.97      0.87      4552\n",
      "        1.0       0.62      0.15      0.24      1445\n",
      "\n",
      "avg / total       0.74      0.77      0.71      5997\n",
      "\n"
     ]
    }
   ],
   "source": [
    "classifier = GradientBoostingClassifier(subsample=0.7, min_samples_split=10)\n",
    "classifier.fit(X_train, y_train)\n",
    "y_hat_grad = classifier.predict(X_test)\n",
    "print(classification_report(y_test, y_hat_grad))"
   ]
  },
  {
   "cell_type": "code",
   "execution_count": 45,
   "metadata": {},
   "outputs": [
    {
     "name": "stdout",
     "output_type": "stream",
     "text": [
      "[[4422  130]\n",
      " [1234  211]]\n"
     ]
    }
   ],
   "source": [
    "print(confusion_matrix(y_test, y_hat_grad))"
   ]
  },
  {
   "cell_type": "markdown",
   "metadata": {},
   "source": [
    "#### Note\n",
    "* New models will be created using the training set and be appended as new data collumns\n",
    "* Same will be done for the test set"
   ]
  },
  {
   "cell_type": "code",
   "execution_count": 46,
   "metadata": {},
   "outputs": [
    {
     "name": "stderr",
     "output_type": "stream",
     "text": [
      "/Users/Anas/anaconda3/lib/python3.6/site-packages/sklearn/utils/validation.py:578: DataConversionWarning: A column-vector y was passed when a 1d array was expected. Please change the shape of y to (n_samples, ), for example using ravel().\n",
      "  y = column_or_1d(y, warn=True)\n",
      "/Users/Anas/anaconda3/lib/python3.6/site-packages/ipykernel_launcher.py:3: DataConversionWarning: A column-vector y was passed when a 1d array was expected. Please change the shape of y to (n_samples,), for example using ravel().\n",
      "  This is separate from the ipykernel package so we can avoid doing imports until\n",
      "/Users/Anas/anaconda3/lib/python3.6/site-packages/sklearn/utils/validation.py:578: DataConversionWarning: A column-vector y was passed when a 1d array was expected. Please change the shape of y to (n_samples, ), for example using ravel().\n",
      "  y = column_or_1d(y, warn=True)\n"
     ]
    }
   ],
   "source": [
    "model1 = LogisticRegression(C=10000).fit(X_train, y_train)\n",
    "model2 = DecisionTreeClassifier(max_depth=8, criterion='entropy', min_samples_leaf=100).fit(X_train, y_train)\n",
    "model3 = RandomForestClassifier(criterion='entropy', n_estimators=10).fit(X_train, y_train)\n",
    "model4 = SVC(probability=True).fit(X_train, y_train)\n",
    "model5 = GradientBoostingClassifier(subsample=0.7, min_samples_split=10).fit(X_train, y_train)"
   ]
  },
  {
   "cell_type": "code",
   "execution_count": 47,
   "metadata": {},
   "outputs": [],
   "source": [
    "def get_mod(array, models = [model1, model2, model3, model4, model5]):\n",
    "    final_model = array\n",
    "    for i in models:\n",
    "        final_model = np.concatenate((final_model, i.predict_proba(array)[:, 0:1]), axis=1)\n",
    "        \n",
    "    return final_model"
   ]
  },
  {
   "cell_type": "code",
   "execution_count": 48,
   "metadata": {},
   "outputs": [],
   "source": [
    "new_X_train = get_mod(X_train)"
   ]
  },
  {
   "cell_type": "code",
   "execution_count": 49,
   "metadata": {
    "collapsed": true
   },
   "outputs": [],
   "source": [
    "new_X_test = get_mod(X_test)"
   ]
  },
  {
   "cell_type": "markdown",
   "metadata": {},
   "source": [
    "#### Note\n",
    "* The function below will help to split the safe and unsafe results\n",
    "* So that an equal number of safe and unsafe observations can be used in the batches\n",
    "* This will improve the training of the neural network a stated in Yann Lecun's paper"
   ]
  },
  {
   "cell_type": "code",
   "execution_count": 50,
   "metadata": {},
   "outputs": [],
   "source": [
    "def split_data(X, y):\n",
    "    \"\"\"Splits data based on classifier 0 and 1\"\"\"\n",
    "    data = np.concatenate((X, y), axis=1)\n",
    "    zero = data[(data[:, -1]==0)][:, 0:15]\n",
    "    one = data[(data[:, -1]==1)][:, 0:15]\n",
    "    \n",
    "    return (zero, one)"
   ]
  },
  {
   "cell_type": "code",
   "execution_count": 51,
   "metadata": {
    "collapsed": true
   },
   "outputs": [],
   "source": [
    "def prep_batch(batch_size, array1, array2):\n",
    "    holder = []\n",
    "    zero = np.random.randint(array1.shape[0], size=16)\n",
    "    one = np.random.randint(array2.shape[0], size=16)\n",
    "    for i in range(batch_size//2):\n",
    "        holder.append(array1[zero[i]:zero[i]+1, :])\n",
    "        holder.append(array2[one[i]:one[i]+1, :])\n",
    "        \n",
    "    return np.concatenate(holder, axis=0)"
   ]
  },
  {
   "cell_type": "code",
   "execution_count": 52,
   "metadata": {},
   "outputs": [
    {
     "data": {
      "text/plain": [
       "array([[ 4.04991769e-02,  2.87145949e-02, -8.48360033e-03,\n",
       "         1.42991195e-03, -2.42677207e-03, -2.33973780e-03,\n",
       "         5.18448077e-03, -7.74234764e-03,  4.38970147e-03,\n",
       "        -5.16427203e-03,  8.57327595e-01,  7.59036145e-01,\n",
       "         1.00000000e+00,  7.73847332e-01,  8.47262924e-01],\n",
       "       [-5.90632089e-02,  4.92090332e-03, -1.12978940e-02,\n",
       "        -4.85818640e-03,  5.30457850e-03,  3.57988397e-03,\n",
       "        -1.94893076e-03,  1.34843397e-03, -3.83207568e-03,\n",
       "         3.46063582e-04,  8.53518615e-01,  7.24137931e-01,\n",
       "         4.00000000e-01,  6.63072848e-01,  8.31105726e-01],\n",
       "       [ 9.64101706e-03, -3.10488698e-02, -4.62902166e-03,\n",
       "         1.32917537e-05,  9.07917314e-04, -3.78824570e-04,\n",
       "         1.45702212e-04, -1.53296997e-03, -2.79689093e-05,\n",
       "         2.85308030e-04,  6.49803901e-01,  7.49385749e-01,\n",
       "         1.00000000e+00,  7.13796638e-01,  6.19558583e-01],\n",
       "       [-4.99254050e-02, -9.21627788e-03, -5.97962300e-03,\n",
       "        -4.41628841e-03,  7.76928875e-03,  1.88660336e-03,\n",
       "        -1.57766594e-03,  1.23531785e-03,  1.09552669e-04,\n",
       "        -2.24611602e-03,  8.29678957e-01,  7.38562092e-01,\n",
       "         3.00000000e-01,  6.93810784e-01,  7.49406439e-01],\n",
       "       [ 6.30494001e-03,  1.25894171e-03, -9.34752594e-04,\n",
       "        -3.49888959e-03,  1.65891015e-03,  2.97411447e-03,\n",
       "        -1.73160018e-03, -5.54473386e-04,  2.19041773e-03,\n",
       "        -1.78431304e-03,  7.58037594e-01,  7.43243243e-01,\n",
       "         1.00000000e+00,  7.15472886e-01,  7.90604664e-01],\n",
       "       [ 8.11603124e-02, -3.03724241e-02, -5.23304757e-03,\n",
       "        -3.82218072e-04,  7.55562630e-03, -1.37494100e-03,\n",
       "         8.35582914e-04, -8.27088963e-04,  2.59419858e-04,\n",
       "        -1.09517569e-04,  5.35532055e-01,  3.61111111e-01,\n",
       "         5.00000000e-01,  6.66109817e-01,  6.34566865e-01],\n",
       "       [ 4.72666090e-02,  3.88895956e-02, -3.20726503e-03,\n",
       "         3.25860825e-03,  3.12994567e-03, -4.46511876e-03,\n",
       "        -1.90786826e-03,  2.17415451e-03,  9.16033032e-04,\n",
       "         3.04799261e-04,  8.32387038e-01,  8.25112108e-01,\n",
       "         1.00000000e+00,  7.20249359e-01,  8.41515222e-01],\n",
       "       [ 1.33357637e-02, -3.23107374e-02, -8.90964021e-03,\n",
       "        -4.45132911e-04,  3.09982576e-04,  3.05086353e-03,\n",
       "         3.08489940e-03, -5.14963399e-04, -1.02886868e-03,\n",
       "        -7.94968699e-04,  5.90562737e-01,  7.49385749e-01,\n",
       "         1.00000000e-01,  6.99600370e-01,  5.35726590e-01],\n",
       "       [-2.96132074e-03, -1.60187484e-02, -3.45677231e-03,\n",
       "         4.55078683e-03, -8.91564851e-03, -4.85209075e-05,\n",
       "        -1.00842067e-03, -7.44300621e-04,  8.54177328e-04,\n",
       "        -3.91009330e-04,  6.57379955e-01,  6.85714286e-01,\n",
       "         1.00000000e+00,  6.91934929e-01,  6.23823756e-01],\n",
       "       [-2.22583653e-02,  2.72277627e-02, -9.67354368e-04,\n",
       "        -4.50009015e-03,  7.35747277e-03, -3.40667203e-03,\n",
       "         2.99475468e-03, -1.94950816e-03,  1.09866937e-02,\n",
       "        -1.53754430e-03,  9.31287353e-01,  8.45991561e-01,\n",
       "         3.00000000e-01,  7.75046499e-01,  8.81241194e-01],\n",
       "       [-8.58747995e-02,  3.49089831e-03,  4.13906306e-03,\n",
       "        -4.62529761e-03,  4.52074822e-03, -7.51800778e-04,\n",
       "        -1.42880087e-03,  1.79773627e-04, -4.79831992e-04,\n",
       "         1.27686212e-03,  9.07256764e-01,  8.82352941e-01,\n",
       "         1.00000000e+00,  6.55823883e-01,  9.26196191e-01],\n",
       "       [ 1.05038777e-01, -1.67013013e-02,  1.42497853e-02,\n",
       "        -1.18269542e-02, -6.37053266e-03, -3.70256739e-03,\n",
       "         4.24701517e-04, -1.24313639e-04, -4.10139156e-04,\n",
       "         5.95661452e-04,  4.40051289e-01,  2.23300971e-01,\n",
       "         1.00000000e-01,  6.07788298e-01,  3.79174840e-01],\n",
       "       [ 2.89346556e-02, -1.13439794e-02, -7.19582719e-03,\n",
       "         5.36555504e-03, -1.51124405e-03, -9.85220784e-04,\n",
       "        -1.48597457e-03,  5.02390640e-04, -4.59523853e-05,\n",
       "        -4.55182824e-04,  6.47139560e-01,  7.38562092e-01,\n",
       "         8.00000000e-01,  6.92408658e-01,  6.63085617e-01],\n",
       "       [ 9.47358468e-04, -2.00106262e-02, -5.66416322e-03,\n",
       "        -2.24159119e-03,  5.11180579e-03,  8.25738739e-04,\n",
       "        -2.33495208e-03,  2.61659559e-03,  4.24007727e-04,\n",
       "        -1.20079568e-03,  6.80314013e-01,  5.61497326e-01,\n",
       "         2.00000000e-01,  6.97115889e-01,  5.32301542e-01],\n",
       "       [ 1.36656207e-01,  3.13287756e-02,  2.80961704e-02,\n",
       "        -6.24484901e-03, -1.02982818e-02,  8.82336326e-03,\n",
       "        -1.09939046e-03,  4.77632577e-04, -2.64488206e-03,\n",
       "         5.28128841e-03,  4.71267157e-01,  1.21428571e-01,\n",
       "         6.00000000e-01,  5.47304141e-01,  2.85141146e-01],\n",
       "       [-1.14649819e-02, -1.02111620e-02, -1.14881129e-02,\n",
       "        -8.40655134e-03, -2.59585176e-03,  4.60816313e-03,\n",
       "        -1.31241447e-03,  4.43630420e-04, -1.16362403e-03,\n",
       "        -2.23924161e-04,  6.88587262e-01,  7.38562092e-01,\n",
       "         2.00000000e-01,  6.90822421e-01,  6.54458185e-01],\n",
       "       [ 4.92388362e-02, -9.29249781e-03,  9.48046252e-02,\n",
       "        -5.74021110e-02, -2.34458918e-02,  3.82221200e-03,\n",
       "        -2.31909140e-04,  1.77076075e-03,  2.47361745e-04,\n",
       "         5.92302226e-03,  4.41951789e-01,  6.08695652e-01,\n",
       "         1.00000000e+00,  6.51218493e-01,  5.32979843e-01],\n",
       "       [-2.14206555e-02, -5.39012697e-03, -7.55397007e-03,\n",
       "         6.44487055e-03, -1.32591902e-02,  2.47124620e-03,\n",
       "         3.07665498e-06,  3.04588825e-04, -5.89449162e-04,\n",
       "        -6.40040381e-04,  6.76276876e-01,  4.59016393e-01,\n",
       "         3.00000000e-01,  6.63799996e-01,  6.87761149e-01],\n",
       "       [-3.53846150e-02,  3.10031480e-03, -2.96330501e-03,\n",
       "        -3.18142697e-03, -1.31192356e-02,  1.74505344e-03,\n",
       "         1.09098438e-03, -2.07791652e-04, -9.60272893e-04,\n",
       "         3.98601102e-04,  7.53479487e-01,  8.01166181e-01,\n",
       "         1.00000000e+00,  6.68546548e-01,  8.13483091e-01],\n",
       "       [-5.57713477e-03, -1.10983663e-02,  5.73024727e-03,\n",
       "        -1.28995921e-02, -6.15095010e-03, -7.56677539e-04,\n",
       "        -1.68774548e-03,  5.72524254e-04, -3.20800561e-04,\n",
       "         3.43233898e-04,  6.90778728e-01,  4.97297297e-01,\n",
       "         1.00000000e-01,  6.95074051e-01,  5.49916747e-01],\n",
       "       [ 1.87794932e-02, -1.62741868e-02, -1.08283282e-02,\n",
       "        -1.86950911e-03, -1.39819199e-02,  3.47657378e-03,\n",
       "        -1.14300117e-03,  5.02363766e-04, -4.39488082e-04,\n",
       "        -2.19218492e-05,  5.12393360e-01,  4.97297297e-01,\n",
       "         9.00000000e-01,  6.59885765e-01,  4.66985760e-01],\n",
       "       [-4.62566699e-02, -1.07859790e-02,  4.69633941e-03,\n",
       "         4.44420124e-03,  1.37380973e-02, -1.53203511e-03,\n",
       "        -2.00804886e-03,  1.30094062e-03, -3.07611852e-03,\n",
       "        -4.92535489e-04,  8.59076995e-01,  8.34394904e-01,\n",
       "         3.00000000e-01,  6.99005653e-01,  8.34820008e-01],\n",
       "       [-5.14267201e-03,  3.85768019e-02, -8.81635780e-03,\n",
       "        -6.72108751e-03,  1.23334556e-03,  3.17659268e-03,\n",
       "        -1.43216476e-03, -1.04587924e-03,  1.58921000e-03,\n",
       "         2.38997443e-03,  8.83725200e-01,  9.27536232e-01,\n",
       "         1.00000000e+00,  7.31369988e-01,  8.63948398e-01],\n",
       "       [-1.03598110e-02, -1.09448003e-03, -6.34796189e-03,\n",
       "        -1.44988867e-02, -3.38972597e-03,  3.34788588e-03,\n",
       "        -1.31655684e-03,  9.85524888e-04,  7.57144551e-04,\n",
       "        -1.97916882e-05,  7.28362532e-01,  8.01166181e-01,\n",
       "         2.00000000e-01,  6.98380505e-01,  7.54241630e-01],\n",
       "       [ 5.22630031e-02,  1.36138425e-02,  2.46210090e-03,\n",
       "        -9.05973003e-03, -1.25717541e-02, -1.55994794e-03,\n",
       "         6.47769589e-04, -1.72912011e-03,  3.25554436e-03,\n",
       "        -5.39373509e-04,  6.71734586e-01,  8.55421687e-01,\n",
       "         9.00000000e-01,  7.02472028e-01,  7.65808720e-01],\n",
       "       [ 8.08597050e-03,  6.03981365e-03,  1.27484516e-01,\n",
       "        -8.69179048e-02, -1.69269851e-02, -9.22610565e-04,\n",
       "        -1.93639314e-03,  5.12357887e-03,  5.10567721e-03,\n",
       "         4.55245949e-03,  6.78143012e-01,  7.43243243e-01,\n",
       "         3.00000000e-01,  7.27538127e-01,  4.42827032e-01],\n",
       "       [-5.89822747e-02,  1.68411251e-02, -9.14631217e-03,\n",
       "        -1.52015546e-03, -6.83702901e-04,  3.46071041e-03,\n",
       "         4.63773360e-03,  9.27771083e-04, -2.19674525e-04,\n",
       "         9.11592945e-04,  8.77955669e-01,  8.01166181e-01,\n",
       "         1.00000000e+00,  6.72081531e-01,  8.38935923e-01],\n",
       "       [-4.00819604e-02,  1.84096625e-02, -3.08976989e-03,\n",
       "        -4.33484364e-04, -1.31576232e-02,  1.51377330e-03,\n",
       "         1.42248242e-03,  3.15105041e-04,  5.38604143e-04,\n",
       "        -1.19317804e-03,  8.09416258e-01,  8.01166181e-01,\n",
       "         4.00000000e-01,  6.65772548e-01,  8.21281035e-01],\n",
       "       [ 2.69457471e-02, -2.28102466e-02,  1.51878087e-02,\n",
       "        -6.32355328e-03,  1.28126381e-02, -5.29718350e-03,\n",
       "         1.15745891e-03, -3.34932417e-03, -2.37835632e-03,\n",
       "        -4.25729688e-03,  7.64432405e-01,  8.70270270e-01,\n",
       "         1.00000000e+00,  7.42584453e-01,  8.47297109e-01],\n",
       "       [ 3.06032327e-02, -2.64670615e-02, -1.83580924e-03,\n",
       "        -1.06743939e-03,  7.54994891e-03, -9.03417260e-05,\n",
       "        -2.22579943e-05, -2.36063902e-03, -6.45720147e-05,\n",
       "        -1.80666740e-03,  6.73827314e-01,  6.00000000e-01,\n",
       "         2.00000000e-01,  7.21895647e-01,  7.16841052e-01],\n",
       "       [ 1.18376624e-02, -2.05511666e-02,  4.17177434e-03,\n",
       "         7.41706268e-03,  1.44136924e-02, -5.36483695e-03,\n",
       "         8.78419599e-05, -1.17616210e-03,  3.93712273e-03,\n",
       "        -7.94265587e-05,  8.13765525e-01,  8.70270270e-01,\n",
       "         1.00000000e+00,  7.54712987e-01,  8.96536867e-01],\n",
       "       [-1.58138669e-02, -1.54208225e-02,  1.70832625e-03,\n",
       "         4.10356296e-03, -1.10059240e-03,  4.42642925e-04,\n",
       "         2.95156829e-02,  8.88573700e-03, -3.38692355e-03,\n",
       "         1.71101082e-04,  6.88792203e-01,  7.38562092e-01,\n",
       "         2.00000000e-01,  6.77423201e-01,  6.39983812e-01]])"
      ]
     },
     "execution_count": 52,
     "metadata": {},
     "output_type": "execute_result"
    }
   ],
   "source": [
    "prep_batch(32, split_data(new_X_train, y_train)[0], split_data(new_X_train, y_train)[1])"
   ]
  },
  {
   "cell_type": "markdown",
   "metadata": {},
   "source": [
    "### Neural Network"
   ]
  },
  {
   "cell_type": "code",
   "execution_count": 53,
   "metadata": {
    "collapsed": true
   },
   "outputs": [],
   "source": [
    "def init_weight(shape):\n",
    "    weights = tf.truncated_normal(shape, stddev=0.1)\n",
    "    # Truncated normal will pick values from normal distribution, but if the value\n",
    "    # is off by 2 std dev, the value is dropped and repicked.\n",
    "    return tf.Variable(weights)"
   ]
  },
  {
   "cell_type": "code",
   "execution_count": 54,
   "metadata": {
    "collapsed": true
   },
   "outputs": [],
   "source": [
    "def init_bias(shape):\n",
    "    bias = tf.constant(0.1, shape=shape)\n",
    "    return tf.Variable(bias)"
   ]
  },
  {
   "cell_type": "code",
   "execution_count": 55,
   "metadata": {
    "collapsed": true
   },
   "outputs": [],
   "source": [
    "def layer(input_layer, size):\n",
    "    # The number of size determines the number of neurons on the next layer\n",
    "    input_size = int(input_layer.get_shape()[1])\n",
    "    W = init_weight([input_size, size])\n",
    "    b = init_bias([size])\n",
    "  \n",
    "    return tf.matmul(input_layer, W) + b"
   ]
  },
  {
   "cell_type": "code",
   "execution_count": 56,
   "metadata": {},
   "outputs": [],
   "source": [
    "x = tf.placeholder(tf.float32, shape=[None, 15]) \n",
    "y_true = tf.placeholder(tf.float32, shape=[None,1])"
   ]
  },
  {
   "cell_type": "code",
   "execution_count": 57,
   "metadata": {
    "collapsed": true
   },
   "outputs": [],
   "source": [
    "hold_prob = tf.placeholder(tf.float32)\n",
    "dropout_layer = tf.nn.dropout(x, rate=1-hold_prob)"
   ]
  },
  {
   "cell_type": "code",
   "execution_count": 58,
   "metadata": {},
   "outputs": [
    {
     "name": "stdout",
     "output_type": "stream",
     "text": [
      "WARNING:tensorflow:From /Users/Anas/anaconda3/lib/python3.6/site-packages/tensorflow/python/framework/op_def_library.py:263: colocate_with (from tensorflow.python.framework.ops) is deprecated and will be removed in a future version.\n",
      "Instructions for updating:\n",
      "Colocations handled automatically by placer.\n"
     ]
    }
   ],
   "source": [
    "hidden_layer1 = tf.nn.leaky_relu(layer(dropout_layer, 10))"
   ]
  },
  {
   "cell_type": "code",
   "execution_count": 59,
   "metadata": {},
   "outputs": [],
   "source": [
    "hidden_layer2 = tf.nn.leaky_relu(layer(hidden_layer1, 5))"
   ]
  },
  {
   "cell_type": "code",
   "execution_count": 60,
   "metadata": {},
   "outputs": [],
   "source": [
    "y_hat = tf.nn.softmax(layer(hidden_layer2, 1))"
   ]
  },
  {
   "cell_type": "code",
   "execution_count": 61,
   "metadata": {},
   "outputs": [],
   "source": [
    "cross_entropy = tf.reduce_mean(tf.nn.softmax_cross_entropy_with_logits_v2(labels=y_true, logits=y_hat))"
   ]
  },
  {
   "cell_type": "code",
   "execution_count": 62,
   "metadata": {
    "collapsed": true
   },
   "outputs": [],
   "source": [
    "optimizer = tf.train.AdamOptimizer(learning_rate=0.001)\n",
    "train = optimizer.minimize(cross_entropy)"
   ]
  },
  {
   "cell_type": "code",
   "execution_count": 63,
   "metadata": {
    "collapsed": true
   },
   "outputs": [],
   "source": [
    "init = tf.global_variables_initializer()"
   ]
  },
  {
   "cell_type": "code",
   "execution_count": null,
   "metadata": {},
   "outputs": [
    {
     "name": "stdout",
     "output_type": "stream",
     "text": [
      "0\n"
     ]
    }
   ],
   "source": [
    "steps = 1001\n",
    "batch_size=32\n",
    "with tf.Session() as sess:\n",
    "    sess.run(init)\n",
    "    zero, one = split_data(new_X_train, y_train) \n",
    "    batch_y = np.array([[0,1]]*16).flatten()[:, np.newaxis]\n",
    "    for i in range(steps):\n",
    "        print(i)\n",
    "        batch_x = prep_batch(batch_size, zero, one)\n",
    "        sess.run(train, feed_dict={x:batch_x, y_true:batch_y, hold_prob:0.8})\n",
    "        # Every 100 steps check the accuracy\n",
    "        if i%100 == 0:\n",
    "            acc = tf.metrics.accuracy(y_true, y_hat)\n",
    "            res = sess.run(acc, feed_dict={x:new_X_test,\n",
    "                                           y_true:y_test,\n",
    "                                           hold_prob:1})\n",
    "            print('Step {}, Accuraccy {}'.format(i, res))"
   ]
  },
  {
   "cell_type": "code",
   "execution_count": null,
   "metadata": {
    "collapsed": true
   },
   "outputs": [],
   "source": []
  }
 ],
 "metadata": {
  "kernelspec": {
   "display_name": "Python 3",
   "language": "python",
   "name": "python3"
  },
  "language_info": {
   "codemirror_mode": {
    "name": "ipython",
    "version": 3
   },
   "file_extension": ".py",
   "mimetype": "text/x-python",
   "name": "python",
   "nbconvert_exporter": "python",
   "pygments_lexer": "ipython3",
   "version": "3.6.8"
  }
 },
 "nbformat": 4,
 "nbformat_minor": 2
}
